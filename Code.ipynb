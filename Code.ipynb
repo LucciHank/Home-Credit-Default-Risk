{
 "cells": [
  {
   "cell_type": "code",
   "execution_count": 1,
   "id": "38f9da9e-5df0-4155-8f17-363ac0eee58a",
   "metadata": {},
   "outputs": [],
   "source": [
    "import pandas as pd\n",
    "import numpy as np\n",
    "from pyspark.sql import SparkSession\n",
    "from pyspark.sql import functions as F\n",
    "from pyspark.sql.functions import col, expr,sum, when,lit\n",
    "from pyspark.ml.feature import MinMaxScaler\n",
    "\n",
    "import matplotlib.pyplot as plt\n",
    "from pyspark.sql.functions import udf\n",
    "from pyspark.sql.types import DoubleType, NumericType\n",
    "\n",
    "import seaborn as sns\n",
    "\n",
    "from pyspark.ml.feature import VectorAssembler, OneHotEncoder\n",
    "from pyspark.ml.regression import LinearRegression\n",
    "from pyspark.ml import Pipeline\n",
    "from pyspark.sql.functions import corr, when\n",
    "from pyspark.sql.functions import max, min\n",
    "from pyspark.ml.feature import StringIndexer\n",
    "from pyspark.ml.feature import MinMaxScaler\n",
    "from pyspark.ml.linalg import Vectors\n",
    "from pyspark.ml.classification import LogisticRegression\n",
    "from pyspark.ml.evaluation import BinaryClassificationEvaluator\n",
    "from pyspark.ml.tuning import ParamGridBuilder, CrossValidator\n",
    "from pyspark.ml.evaluation import MulticlassClassificationEvaluator\n"
   ]
  },
  {
   "cell_type": "code",
   "execution_count": 2,
   "id": "8ebb7fbf-533d-4109-9061-bd078ce99150",
   "metadata": {},
   "outputs": [],
   "source": [
    "spark = SparkSession.builder.getOrCreate()"
   ]
  },
  {
   "cell_type": "markdown",
   "id": "30f4b925-269b-420e-b0d2-daa12f60371e",
   "metadata": {},
   "source": [
    "Thu thập data"
   ]
  },
  {
   "cell_type": "code",
   "execution_count": 3,
   "id": "bd917908-fe0e-43f1-a9ea-01fa9551fe87",
   "metadata": {},
   "outputs": [],
   "source": [
    "df_train = spark.read.csv('application_train.csv', header=True, inferSchema=True)\n",
    "df_prev = spark.read.csv('previous_application.csv', header=True, inferSchema=True)"
   ]
  },
  {
   "cell_type": "markdown",
   "id": "96a8d5a9-9b6b-4893-9303-0270cd371f44",
   "metadata": {},
   "source": [
    "# Xem qua dữ liệu"
   ]
  },
  {
   "cell_type": "code",
   "execution_count": 4,
   "id": "76a1c339-ab22-4d13-b87a-a869afb0f4ca",
   "metadata": {},
   "outputs": [
    {
     "name": "stdout",
     "output_type": "stream",
     "text": [
      "+----------+------+------------------+-----------+------------+---------------+------------+----------------+----------+-----------+---------------+---------------+----------------+--------------------+--------------------+-----------------+--------------------------+----------+-------------+-----------------+---------------+-----------+----------+--------------+---------------+----------------+----------+----------+---------------+---------------+--------------------+---------------------------+--------------------------+-----------------------+--------------------------+--------------------------+---------------------------+----------------------+----------------------+-----------------------+--------------------+-------------------+------------------+-------------------+--------------+----------------+---------------------------+------------------+--------------+-------------+-------------+-------------+-------------+------------+--------------------+--------------+-----------------------+-----------------+---------------+-----------------+----------------------------+----------------+---------------+--------------+--------------+--------------+--------------+-------------+---------------------+---------------+------------------------+------------------+---------------+-----------------+----------------------------+----------------+---------------+--------------+--------------+--------------+--------------+-------------+---------------------+---------------+------------------------+------------------+------------------+--------------+--------------+------------------+-------------------+------------------------+------------------------+------------------------+------------------------+----------------------+---------------+---------------+---------------+---------------+---------------+---------------+---------------+---------------+----------------+----------------+----------------+----------------+----------------+----------------+----------------+----------------+----------------+----------------+----------------+----------------+--------------------------+-------------------------+--------------------------+-------------------------+-------------------------+--------------------------+\n",
      "|SK_ID_CURR|TARGET|NAME_CONTRACT_TYPE|CODE_GENDER|FLAG_OWN_CAR|FLAG_OWN_REALTY|CNT_CHILDREN|AMT_INCOME_TOTAL|AMT_CREDIT|AMT_ANNUITY|AMT_GOODS_PRICE|NAME_TYPE_SUITE|NAME_INCOME_TYPE| NAME_EDUCATION_TYPE|  NAME_FAMILY_STATUS|NAME_HOUSING_TYPE|REGION_POPULATION_RELATIVE|DAYS_BIRTH|DAYS_EMPLOYED|DAYS_REGISTRATION|DAYS_ID_PUBLISH|OWN_CAR_AGE|FLAG_MOBIL|FLAG_EMP_PHONE|FLAG_WORK_PHONE|FLAG_CONT_MOBILE|FLAG_PHONE|FLAG_EMAIL|OCCUPATION_TYPE|CNT_FAM_MEMBERS|REGION_RATING_CLIENT|REGION_RATING_CLIENT_W_CITY|WEEKDAY_APPR_PROCESS_START|HOUR_APPR_PROCESS_START|REG_REGION_NOT_LIVE_REGION|REG_REGION_NOT_WORK_REGION|LIVE_REGION_NOT_WORK_REGION|REG_CITY_NOT_LIVE_CITY|REG_CITY_NOT_WORK_CITY|LIVE_CITY_NOT_WORK_CITY|   ORGANIZATION_TYPE|       EXT_SOURCE_1|      EXT_SOURCE_2|       EXT_SOURCE_3|APARTMENTS_AVG|BASEMENTAREA_AVG|YEARS_BEGINEXPLUATATION_AVG|   YEARS_BUILD_AVG|COMMONAREA_AVG|ELEVATORS_AVG|ENTRANCES_AVG|FLOORSMAX_AVG|FLOORSMIN_AVG|LANDAREA_AVG|LIVINGAPARTMENTS_AVG|LIVINGAREA_AVG|NONLIVINGAPARTMENTS_AVG|NONLIVINGAREA_AVG|APARTMENTS_MODE|BASEMENTAREA_MODE|YEARS_BEGINEXPLUATATION_MODE|YEARS_BUILD_MODE|COMMONAREA_MODE|ELEVATORS_MODE|ENTRANCES_MODE|FLOORSMAX_MODE|FLOORSMIN_MODE|LANDAREA_MODE|LIVINGAPARTMENTS_MODE|LIVINGAREA_MODE|NONLIVINGAPARTMENTS_MODE|NONLIVINGAREA_MODE|APARTMENTS_MEDI|BASEMENTAREA_MEDI|YEARS_BEGINEXPLUATATION_MEDI|YEARS_BUILD_MEDI|COMMONAREA_MEDI|ELEVATORS_MEDI|ENTRANCES_MEDI|FLOORSMAX_MEDI|FLOORSMIN_MEDI|LANDAREA_MEDI|LIVINGAPARTMENTS_MEDI|LIVINGAREA_MEDI|NONLIVINGAPARTMENTS_MEDI|NONLIVINGAREA_MEDI|FONDKAPREMONT_MODE|HOUSETYPE_MODE|TOTALAREA_MODE|WALLSMATERIAL_MODE|EMERGENCYSTATE_MODE|OBS_30_CNT_SOCIAL_CIRCLE|DEF_30_CNT_SOCIAL_CIRCLE|OBS_60_CNT_SOCIAL_CIRCLE|DEF_60_CNT_SOCIAL_CIRCLE|DAYS_LAST_PHONE_CHANGE|FLAG_DOCUMENT_2|FLAG_DOCUMENT_3|FLAG_DOCUMENT_4|FLAG_DOCUMENT_5|FLAG_DOCUMENT_6|FLAG_DOCUMENT_7|FLAG_DOCUMENT_8|FLAG_DOCUMENT_9|FLAG_DOCUMENT_10|FLAG_DOCUMENT_11|FLAG_DOCUMENT_12|FLAG_DOCUMENT_13|FLAG_DOCUMENT_14|FLAG_DOCUMENT_15|FLAG_DOCUMENT_16|FLAG_DOCUMENT_17|FLAG_DOCUMENT_18|FLAG_DOCUMENT_19|FLAG_DOCUMENT_20|FLAG_DOCUMENT_21|AMT_REQ_CREDIT_BUREAU_HOUR|AMT_REQ_CREDIT_BUREAU_DAY|AMT_REQ_CREDIT_BUREAU_WEEK|AMT_REQ_CREDIT_BUREAU_MON|AMT_REQ_CREDIT_BUREAU_QRT|AMT_REQ_CREDIT_BUREAU_YEAR|\n",
      "+----------+------+------------------+-----------+------------+---------------+------------+----------------+----------+-----------+---------------+---------------+----------------+--------------------+--------------------+-----------------+--------------------------+----------+-------------+-----------------+---------------+-----------+----------+--------------+---------------+----------------+----------+----------+---------------+---------------+--------------------+---------------------------+--------------------------+-----------------------+--------------------------+--------------------------+---------------------------+----------------------+----------------------+-----------------------+--------------------+-------------------+------------------+-------------------+--------------+----------------+---------------------------+------------------+--------------+-------------+-------------+-------------+-------------+------------+--------------------+--------------+-----------------------+-----------------+---------------+-----------------+----------------------------+----------------+---------------+--------------+--------------+--------------+--------------+-------------+---------------------+---------------+------------------------+------------------+---------------+-----------------+----------------------------+----------------+---------------+--------------+--------------+--------------+--------------+-------------+---------------------+---------------+------------------------+------------------+------------------+--------------+--------------+------------------+-------------------+------------------------+------------------------+------------------------+------------------------+----------------------+---------------+---------------+---------------+---------------+---------------+---------------+---------------+---------------+----------------+----------------+----------------+----------------+----------------+----------------+----------------+----------------+----------------+----------------+----------------+----------------+--------------------------+-------------------------+--------------------------+-------------------------+-------------------------+--------------------------+\n",
      "|    100002|     1|        Cash loans|          M|           N|              Y|           0|        202500.0|  406597.5|    24700.5|       351000.0|  Unaccompanied|         Working|Secondary / secon...|Single / not married|House / apartment|                  0.018801|     -9461|         -637|          -3648.0|          -2120|       NULL|         1|             1|              0|               1|         1|         0|       Laborers|            1.0|                   2|                          2|                 WEDNESDAY|                     10|                         0|                         0|                          0|                     0|                     0|                      0|Business Entity T...|0.08303696739132256|0.2629485927471776|0.13937578009978951|        0.0247|          0.0369|                     0.9722|            0.6192|        0.0143|          0.0|        0.069|       0.0833|        0.125|      0.0369|              0.0202|         0.019|                    0.0|              0.0|         0.0252|           0.0383|                      0.9722|          0.6341|         0.0144|           0.0|         0.069|        0.0833|         0.125|       0.0377|                0.022|         0.0198|                     0.0|               0.0|          0.025|           0.0369|                      0.9722|          0.6243|         0.0144|           0.0|         0.069|        0.0833|         0.125|       0.0375|               0.0205|         0.0193|                     0.0|               0.0|  reg oper account|block of flats|        0.0149|      Stone, brick|                 No|                     2.0|                     2.0|                     2.0|                     2.0|               -1134.0|              0|              1|              0|              0|              0|              0|              0|              0|               0|               0|               0|               0|               0|               0|               0|               0|               0|               0|               0|               0|                       0.0|                      0.0|                       0.0|                      0.0|                      0.0|                       1.0|\n",
      "|    100003|     0|        Cash loans|          F|           N|              N|           0|        270000.0| 1293502.5|    35698.5|      1129500.0|         Family|   State servant|    Higher education|             Married|House / apartment|      0.003540999999999999|    -16765|        -1188|          -1186.0|           -291|       NULL|         1|             1|              0|               1|         1|         0|     Core staff|            2.0|                   1|                          1|                    MONDAY|                     11|                         0|                         0|                          0|                     0|                     0|                      0|              School| 0.3112673113812225|0.6222457752555098|               NULL|        0.0959|          0.0529|                     0.9851|0.7959999999999999|        0.0605|         0.08|       0.0345|       0.2917|       0.3333|       0.013|              0.0773|        0.0549|                 0.0039|           0.0098|         0.0924|           0.0538|                      0.9851|           0.804|         0.0497|        0.0806|        0.0345|        0.2917|        0.3333|       0.0128|                0.079|         0.0554|                     0.0|               0.0|         0.0968|           0.0529|                      0.9851|          0.7987|         0.0608|          0.08|        0.0345|        0.2917|        0.3333|       0.0132|               0.0787|         0.0558|                  0.0039|              0.01|  reg oper account|block of flats|        0.0714|             Block|                 No|                     1.0|                     0.0|                     1.0|                     0.0|                -828.0|              0|              1|              0|              0|              0|              0|              0|              0|               0|               0|               0|               0|               0|               0|               0|               0|               0|               0|               0|               0|                       0.0|                      0.0|                       0.0|                      0.0|                      0.0|                       0.0|\n",
      "|    100004|     0|   Revolving loans|          M|           Y|              Y|           0|         67500.0|  135000.0|     6750.0|       135000.0|  Unaccompanied|         Working|Secondary / secon...|Single / not married|House / apartment|                  0.010032|    -19046|         -225|          -4260.0|          -2531|       26.0|         1|             1|              1|               1|         1|         0|       Laborers|            1.0|                   2|                          2|                    MONDAY|                      9|                         0|                         0|                          0|                     0|                     0|                      0|          Government|               NULL|0.5559120833904428| 0.7295666907060153|          NULL|            NULL|                       NULL|              NULL|          NULL|         NULL|         NULL|         NULL|         NULL|        NULL|                NULL|          NULL|                   NULL|             NULL|           NULL|             NULL|                        NULL|            NULL|           NULL|          NULL|          NULL|          NULL|          NULL|         NULL|                 NULL|           NULL|                    NULL|              NULL|           NULL|             NULL|                        NULL|            NULL|           NULL|          NULL|          NULL|          NULL|          NULL|         NULL|                 NULL|           NULL|                    NULL|              NULL|              NULL|          NULL|          NULL|              NULL|               NULL|                     0.0|                     0.0|                     0.0|                     0.0|                -815.0|              0|              0|              0|              0|              0|              0|              0|              0|               0|               0|               0|               0|               0|               0|               0|               0|               0|               0|               0|               0|                       0.0|                      0.0|                       0.0|                      0.0|                      0.0|                       0.0|\n",
      "|    100006|     0|        Cash loans|          F|           N|              Y|           0|        135000.0|  312682.5|    29686.5|       297000.0|  Unaccompanied|         Working|Secondary / secon...|      Civil marriage|House / apartment|                  0.008019|    -19005|        -3039|          -9833.0|          -2437|       NULL|         1|             1|              0|               1|         0|         0|       Laborers|            2.0|                   2|                          2|                 WEDNESDAY|                     17|                         0|                         0|                          0|                     0|                     0|                      0|Business Entity T...|               NULL|0.6504416904014653|               NULL|          NULL|            NULL|                       NULL|              NULL|          NULL|         NULL|         NULL|         NULL|         NULL|        NULL|                NULL|          NULL|                   NULL|             NULL|           NULL|             NULL|                        NULL|            NULL|           NULL|          NULL|          NULL|          NULL|          NULL|         NULL|                 NULL|           NULL|                    NULL|              NULL|           NULL|             NULL|                        NULL|            NULL|           NULL|          NULL|          NULL|          NULL|          NULL|         NULL|                 NULL|           NULL|                    NULL|              NULL|              NULL|          NULL|          NULL|              NULL|               NULL|                     2.0|                     0.0|                     2.0|                     0.0|                -617.0|              0|              1|              0|              0|              0|              0|              0|              0|               0|               0|               0|               0|               0|               0|               0|               0|               0|               0|               0|               0|                      NULL|                     NULL|                      NULL|                     NULL|                     NULL|                      NULL|\n",
      "|    100007|     0|        Cash loans|          M|           N|              Y|           0|        121500.0|  513000.0|    21865.5|       513000.0|  Unaccompanied|         Working|Secondary / secon...|Single / not married|House / apartment|                  0.028663|    -19932|        -3038|          -4311.0|          -3458|       NULL|         1|             1|              0|               1|         0|         0|     Core staff|            1.0|                   2|                          2|                  THURSDAY|                     11|                         0|                         0|                          0|                     0|                     1|                      1|            Religion|               NULL|0.3227382869704046|               NULL|          NULL|            NULL|                       NULL|              NULL|          NULL|         NULL|         NULL|         NULL|         NULL|        NULL|                NULL|          NULL|                   NULL|             NULL|           NULL|             NULL|                        NULL|            NULL|           NULL|          NULL|          NULL|          NULL|          NULL|         NULL|                 NULL|           NULL|                    NULL|              NULL|           NULL|             NULL|                        NULL|            NULL|           NULL|          NULL|          NULL|          NULL|          NULL|         NULL|                 NULL|           NULL|                    NULL|              NULL|              NULL|          NULL|          NULL|              NULL|               NULL|                     0.0|                     0.0|                     0.0|                     0.0|               -1106.0|              0|              0|              0|              0|              0|              0|              1|              0|               0|               0|               0|               0|               0|               0|               0|               0|               0|               0|               0|               0|                       0.0|                      0.0|                       0.0|                      0.0|                      0.0|                       0.0|\n",
      "+----------+------+------------------+-----------+------------+---------------+------------+----------------+----------+-----------+---------------+---------------+----------------+--------------------+--------------------+-----------------+--------------------------+----------+-------------+-----------------+---------------+-----------+----------+--------------+---------------+----------------+----------+----------+---------------+---------------+--------------------+---------------------------+--------------------------+-----------------------+--------------------------+--------------------------+---------------------------+----------------------+----------------------+-----------------------+--------------------+-------------------+------------------+-------------------+--------------+----------------+---------------------------+------------------+--------------+-------------+-------------+-------------+-------------+------------+--------------------+--------------+-----------------------+-----------------+---------------+-----------------+----------------------------+----------------+---------------+--------------+--------------+--------------+--------------+-------------+---------------------+---------------+------------------------+------------------+---------------+-----------------+----------------------------+----------------+---------------+--------------+--------------+--------------+--------------+-------------+---------------------+---------------+------------------------+------------------+------------------+--------------+--------------+------------------+-------------------+------------------------+------------------------+------------------------+------------------------+----------------------+---------------+---------------+---------------+---------------+---------------+---------------+---------------+---------------+----------------+----------------+----------------+----------------+----------------+----------------+----------------+----------------+----------------+----------------+----------------+----------------+--------------------------+-------------------------+--------------------------+-------------------------+-------------------------+--------------------------+\n",
      "only showing top 5 rows\n",
      "\n"
     ]
    }
   ],
   "source": [
    "df_train.show(5)"
   ]
  },
  {
   "cell_type": "code",
   "execution_count": 5,
   "id": "0426b0f8-404f-4fcc-83bd-d73aaa4253e7",
   "metadata": {},
   "outputs": [
    {
     "name": "stdout",
     "output_type": "stream",
     "text": [
      "+----------+----------+------------------+-----------+---------------+----------+----------------+---------------+--------------------------+-----------------------+---------------------------+----------------------+-----------------+---------------------+------------------------+----------------------+--------------------+-------------+--------------------+------------------+---------------+----------------+-------------------+--------------+-----------------+--------------------+----------------+--------------------+-----------+----------------+--------------------+------------------+--------------+-------------------------+-------------+----------------+-------------------------+\n",
      "|SK_ID_PREV|SK_ID_CURR|NAME_CONTRACT_TYPE|AMT_ANNUITY|AMT_APPLICATION|AMT_CREDIT|AMT_DOWN_PAYMENT|AMT_GOODS_PRICE|WEEKDAY_APPR_PROCESS_START|HOUR_APPR_PROCESS_START|FLAG_LAST_APPL_PER_CONTRACT|NFLAG_LAST_APPL_IN_DAY|RATE_DOWN_PAYMENT|RATE_INTEREST_PRIMARY|RATE_INTEREST_PRIVILEGED|NAME_CASH_LOAN_PURPOSE|NAME_CONTRACT_STATUS|DAYS_DECISION|   NAME_PAYMENT_TYPE|CODE_REJECT_REASON|NAME_TYPE_SUITE|NAME_CLIENT_TYPE|NAME_GOODS_CATEGORY|NAME_PORTFOLIO|NAME_PRODUCT_TYPE|        CHANNEL_TYPE|SELLERPLACE_AREA|NAME_SELLER_INDUSTRY|CNT_PAYMENT|NAME_YIELD_GROUP| PRODUCT_COMBINATION|DAYS_FIRST_DRAWING|DAYS_FIRST_DUE|DAYS_LAST_DUE_1ST_VERSION|DAYS_LAST_DUE|DAYS_TERMINATION|NFLAG_INSURED_ON_APPROVAL|\n",
      "+----------+----------+------------------+-----------+---------------+----------+----------------+---------------+--------------------------+-----------------------+---------------------------+----------------------+-----------------+---------------------+------------------------+----------------------+--------------------+-------------+--------------------+------------------+---------------+----------------+-------------------+--------------+-----------------+--------------------+----------------+--------------------+-----------+----------------+--------------------+------------------+--------------+-------------------------+-------------+----------------+-------------------------+\n",
      "|   2030495|    271877|    Consumer loans|    1730.43|        17145.0|   17145.0|             0.0|        17145.0|                  SATURDAY|                     15|                          Y|                     1|              0.0|  0.18283180324152784|      0.8673361522198731|                   XAP|            Approved|          -73|Cash through the ...|               XAP|           NULL|        Repeater|             Mobile|           POS|              XNA|        Country-wide|              35|        Connectivity|       12.0|          middle|POS mobile with i...|          365243.0|         -42.0|                    300.0|        -42.0|           -37.0|                      0.0|\n",
      "|   2802425|    108129|        Cash loans|  25188.615|       607500.0|  679671.0|            NULL|       607500.0|                  THURSDAY|                     11|                          Y|                     1|             NULL|                 NULL|                    NULL|                   XNA|            Approved|         -164|                 XNA|               XAP|  Unaccompanied|        Repeater|                XNA|          Cash|           x-sell|      Contact center|              -1|                 XNA|       36.0|      low_action|    Cash X-Sell: low|          365243.0|        -134.0|                    916.0|     365243.0|        365243.0|                      1.0|\n",
      "|   2523466|    122040|        Cash loans|  15060.735|       112500.0|  136444.5|            NULL|       112500.0|                   TUESDAY|                     11|                          Y|                     1|             NULL|                 NULL|                    NULL|                   XNA|            Approved|         -301|Cash through the ...|               XAP|Spouse, partner|        Repeater|                XNA|          Cash|           x-sell|Credit and cash o...|              -1|                 XNA|       12.0|            high|   Cash X-Sell: high|          365243.0|        -271.0|                     59.0|     365243.0|        365243.0|                      1.0|\n",
      "|   2819243|    176158|        Cash loans|  47041.335|       450000.0|  470790.0|            NULL|       450000.0|                    MONDAY|                      7|                          Y|                     1|             NULL|                 NULL|                    NULL|                   XNA|            Approved|         -512|Cash through the ...|               XAP|           NULL|        Repeater|                XNA|          Cash|           x-sell|Credit and cash o...|              -1|                 XNA|       12.0|          middle| Cash X-Sell: middle|          365243.0|        -482.0|                   -152.0|       -182.0|          -177.0|                      1.0|\n",
      "|   1784265|    202054|        Cash loans|  31924.395|       337500.0|  404055.0|            NULL|       337500.0|                  THURSDAY|                      9|                          Y|                     1|             NULL|                 NULL|                    NULL|               Repairs|             Refused|         -781|Cash through the ...|                HC|           NULL|        Repeater|                XNA|          Cash|          walk-in|Credit and cash o...|              -1|                 XNA|       24.0|            high|   Cash Street: high|              NULL|          NULL|                     NULL|         NULL|            NULL|                     NULL|\n",
      "+----------+----------+------------------+-----------+---------------+----------+----------------+---------------+--------------------------+-----------------------+---------------------------+----------------------+-----------------+---------------------+------------------------+----------------------+--------------------+-------------+--------------------+------------------+---------------+----------------+-------------------+--------------+-----------------+--------------------+----------------+--------------------+-----------+----------------+--------------------+------------------+--------------+-------------------------+-------------+----------------+-------------------------+\n",
      "only showing top 5 rows\n",
      "\n"
     ]
    }
   ],
   "source": [
    "df_prev.show(5)"
   ]
  },
  {
   "cell_type": "markdown",
   "id": "f3a5c7c1-d3d2-403b-bd16-430207013b0d",
   "metadata": {},
   "source": [
    "# Phân tích và tổng hợp dữ liệu"
   ]
  },
  {
   "cell_type": "code",
   "execution_count": 6,
   "id": "fe5d9a7a-fb9c-4a5d-bace-62d1e73d58a7",
   "metadata": {},
   "outputs": [
    {
     "name": "stdout",
     "output_type": "stream",
     "text": [
      "307511\n",
      "307511\n"
     ]
    }
   ],
   "source": [
    "print(df_train.select('SK_ID_CURR').distinct().count())\n",
    "print(df_train.select('SK_ID_CURR').count())"
   ]
  },
  {
   "cell_type": "code",
   "execution_count": 7,
   "id": "55af32d2-7564-47bc-bc8e-7707d209165b",
   "metadata": {},
   "outputs": [
    {
     "name": "stdout",
     "output_type": "stream",
     "text": [
      "338857\n",
      "1670214\n"
     ]
    }
   ],
   "source": [
    "print(df_prev.select('SK_ID_CURR').distinct().count())\n",
    "print(df_prev.select('SK_ID_CURR').count())"
   ]
  },
  {
   "cell_type": "code",
   "execution_count": 9,
   "id": "8ebd1f19-93f9-4933-90da-9723f9b6df60",
   "metadata": {},
   "outputs": [
    {
     "name": "stdout",
     "output_type": "stream",
     "text": [
      "+----------+---------------+------------------+-----------------+--------------------+---------------------+---------------------+----------------------+--------------------+---------------------+----------------------+-----------------------+--------------------------+---------------------------+--------------+------------------+-------------------+--------------------+--------------------+-------------------+--------------------+--------------------------+-------------------------+\n",
      "|SK_ID_CURR|PREV_LOAN_COUNT|  PREV_ANNUITY_SUM|PREV_ANNUITY_MEAN|PREV_APPLICATION_SUM|PREV_APPLICATION_MEAN|PREV_DOWN_PAYMENT_SUM|PREV_DOWN_PAYMENT_MEAN|PREV_GOODS_PRICE_SUM|PREV_GOODS_PRICE_MEAN|PREV_PAYMENT_COUNT_SUM|PREV_PAYMENT_COUNT_MEAN|PREV_RATE_DOWN_PAYMENT_SUM|PREV_RATE_DOWN_PAYMENT_MEAN|PREV_TYPE_CASH|PREV_TYPE_CONSUMER|PREV_TYPE_REVOLVING|PREV_STATUS_APPROVED|PREV_STATUS_CANCELED|PREV_STATUS_REFUSED|PREV_CLIENT_TYPE_NEW|PREV_CLIENT_TYPE_REFRESHED|PREV_CLIENT_TYPE_REPEATER|\n",
      "+----------+---------------+------------------+-----------------+--------------------+---------------------+---------------------+----------------------+--------------------+---------------------+----------------------+-----------------------+--------------------------+---------------------------+--------------+------------------+-------------------+--------------------+--------------------+-------------------+--------------------+--------------------------+-------------------------+\n",
      "|    407209|              2|          33953.31|        16976.655|             91539.0|              45769.5|                  0.0|                   0.0|             91539.0|              91539.0|                  10.0|                    5.0|                       0.0|                        0.0|             0|                 1|                  1|                   2|                   0|                  0|                   1|                         0|                        1|\n",
      "|    418997|              1|         15395.625|        15395.625|          103286.565|           103286.565|             9002.565|              9002.565|          103286.565|           103286.565|                   8.0|                    8.0|       0.09492630237049708|        0.09492630237049708|             0|                 1|                  0|                   1|                   0|                  0|                   1|                         0|                        0|\n",
      "|    368304|             15|218863.43999999997|19896.67636363636|  4804955.1899999995|   320330.34599999996|   20127.690000000002|     2875.384285714286|  4804955.1899999995|   436814.10818181816|                 184.0|     16.727272727272727|        0.5052108390519534|        0.07217297700742191|             6|                 7|                  2|                   8|                   5|                  2|                   0|                         1|                       14|\n",
      "|    350569|              8|         84114.225|       14019.0375|           1524996.0|             190624.5|             175405.5|             43851.375|           1524996.0|             254166.0|                 130.0|     21.666666666666668|         0.570644006923721|        0.14266100173093024|             3|                 4|                  1|                   4|                   2|                  2|                   1|                         3|                        4|\n",
      "|    431018|              5|          35788.05|        8947.0125|            348727.5|              69745.5|               9486.0|                1897.2|            348727.5|              69745.5|                  41.0|                  10.25|       0.17769747800586505|        0.03553949560117301|             0|                 5|                  0|                   4|                   0|                  0|                   0|                         0|                        5|\n",
      "+----------+---------------+------------------+-----------------+--------------------+---------------------+---------------------+----------------------+--------------------+---------------------+----------------------+-----------------------+--------------------------+---------------------------+--------------+------------------+-------------------+--------------------+--------------------+-------------------+--------------------+--------------------------+-------------------------+\n",
      "only showing top 5 rows\n",
      "\n"
     ]
    }
   ],
   "source": [
    "df_prev_agg = df_prev.groupBy('SK_ID_CURR').agg(\n",
    "    F.count('SK_ID_PREV').alias('PREV_LOAN_COUNT'),\n",
    "  \n",
    "    F.sum('AMT_ANNUITY').alias('PREV_ANNUITY_SUM'),\n",
    "    F.mean('AMT_ANNUITY').alias('PREV_ANNUITY_MEAN'),\n",
    "    \n",
    "    F.sum('AMT_APPLICATION').alias('PREV_APPLICATION_SUM'),\n",
    "    F.mean('AMT_APPLICATION').alias('PREV_APPLICATION_MEAN'),\n",
    "    \n",
    "    F.sum('AMT_DOWN_PAYMENT').alias('PREV_DOWN_PAYMENT_SUM'),\n",
    "    F.mean('AMT_DOWN_PAYMENT').alias('PREV_DOWN_PAYMENT_MEAN'),\n",
    "    \n",
    "    F.sum('AMT_GOODS_PRICE').alias('PREV_GOODS_PRICE_SUM'),\n",
    "    F.mean('AMT_GOODS_PRICE').alias('PREV_GOODS_PRICE_MEAN'),\n",
    "    \n",
    "    F.sum('CNT_PAYMENT').alias('PREV_PAYMENT_COUNT_SUM'),\n",
    "    F.mean('CNT_PAYMENT').alias('PREV_PAYMENT_COUNT_MEAN'),\n",
    "    \n",
    "    F.sum('RATE_DOWN_PAYMENT').alias('PREV_RATE_DOWN_PAYMENT_SUM'),\n",
    "    F.mean('RATE_DOWN_PAYMENT').alias('PREV_RATE_DOWN_PAYMENT_MEAN'),\n",
    "    \n",
    "    F.sum(F.when(F.col('NAME_CONTRACT_TYPE') == 'Cash loans', 1).otherwise(0)).alias('PREV_TYPE_CASH'),\n",
    "    F.sum(F.when(F.col('NAME_CONTRACT_TYPE') == 'Consumer loans', 1).otherwise(0)).alias('PREV_TYPE_CONSUMER'),\n",
    "    F.sum(F.when(F.col('NAME_CONTRACT_TYPE') == 'Revolving loans', 1).otherwise(0)).alias('PREV_TYPE_REVOLVING'),\n",
    "    \n",
    "    F.sum(F.when(F.col('NAME_CONTRACT_STATUS') == 'Approved', 1).otherwise(0)).alias('PREV_STATUS_APPROVED'),\n",
    "    F.sum(F.when(F.col('NAME_CONTRACT_STATUS') == 'Canceled', 1).otherwise(0)).alias('PREV_STATUS_CANCELED'),\n",
    "    F.sum(F.when(F.col('NAME_CONTRACT_STATUS') == 'Refused', 1).otherwise(0)).alias('PREV_STATUS_REFUSED'),\n",
    "    \n",
    "    F.sum(F.when(F.col('NAME_CLIENT_TYPE') == 'New', 1).otherwise(0)).alias('PREV_CLIENT_TYPE_NEW'),\n",
    "    F.sum(F.when(F.col('NAME_CLIENT_TYPE') == 'Refreshed', 1).otherwise(0)).alias('PREV_CLIENT_TYPE_REFRESHED'),\n",
    "    F.sum(F.when(F.col('NAME_CLIENT_TYPE') == 'Repeater', 1).otherwise(0)).alias('PREV_CLIENT_TYPE_REPEATER')\n",
    ")\n",
    "\n",
    "df_prev_agg.show(5)\n"
   ]
  },
  {
   "cell_type": "code",
   "execution_count": 10,
   "id": "77cb08b9-9eaa-42ac-89ae-9fd0da81c896",
   "metadata": {},
   "outputs": [
    {
     "name": "stdout",
     "output_type": "stream",
     "text": [
      "+----------+---------------+----------------+-----------------+--------------------+---------------------+---------------------+----------------------+--------------------+---------------------+----------------------+-----------------------+--------------------------+---------------------------+--------------+------------------+-------------------+--------------------+--------------------+-------------------+--------------------+--------------------------+-------------------------+\n",
      "|SK_ID_CURR|PREV_LOAN_COUNT|PREV_ANNUITY_SUM|PREV_ANNUITY_MEAN|PREV_APPLICATION_SUM|PREV_APPLICATION_MEAN|PREV_DOWN_PAYMENT_SUM|PREV_DOWN_PAYMENT_MEAN|PREV_GOODS_PRICE_SUM|PREV_GOODS_PRICE_MEAN|PREV_PAYMENT_COUNT_SUM|PREV_PAYMENT_COUNT_MEAN|PREV_RATE_DOWN_PAYMENT_SUM|PREV_RATE_DOWN_PAYMENT_MEAN|PREV_TYPE_CASH|PREV_TYPE_CONSUMER|PREV_TYPE_REVOLVING|PREV_STATUS_APPROVED|PREV_STATUS_CANCELED|PREV_STATUS_REFUSED|PREV_CLIENT_TYPE_NEW|PREV_CLIENT_TYPE_REFRESHED|PREV_CLIENT_TYPE_REPEATER|\n",
      "+----------+---------------+----------------+-----------------+--------------------+---------------------+---------------------+----------------------+--------------------+---------------------+----------------------+-----------------------+--------------------------+---------------------------+--------------+------------------+-------------------+--------------------+--------------------+-------------------+--------------------+--------------------------+-------------------------+\n",
      "|         0|              0|             480|              480|                   0|                    0|                20104|                 20104|                1064|                 1064|                   478|                    478|                     20104|                      20104|             0|                 0|                  0|                   0|                   0|                  0|                   0|                         0|                        0|\n",
      "+----------+---------------+----------------+-----------------+--------------------+---------------------+---------------------+----------------------+--------------------+---------------------+----------------------+-----------------------+--------------------------+---------------------------+--------------+------------------+-------------------+--------------------+--------------------+-------------------+--------------------+--------------------------+-------------------------+\n",
      "\n"
     ]
    }
   ],
   "source": [
    "null_counts = df_prev_agg.select([sum(col(c).isNull().cast(\"int\")).alias(c) for c in df_prev_agg.columns])\n",
    "null_counts.show()"
   ]
  },
  {
   "cell_type": "code",
   "execution_count": 10,
   "id": "5ac77750-2faf-437b-9f76-4dacea565135",
   "metadata": {},
   "outputs": [],
   "source": [
    "df_prev = df_prev.fillna(0)"
   ]
  },
  {
   "cell_type": "code",
   "execution_count": 11,
   "id": "80ac3f78-cec1-4630-a7a6-0ae507ff9596",
   "metadata": {},
   "outputs": [],
   "source": [
    "df_train_merged = df_train.join(df_prev_agg, on='SK_ID_CURR', how='left')"
   ]
  },
  {
   "cell_type": "markdown",
   "id": "02cb6bd5-7c74-4fcf-8540-9303880c5308",
   "metadata": {},
   "source": [
    "Lọc dữ liệu theo lịch sử vay vốn và khách hàng vay tiền mặt"
   ]
  },
  {
   "cell_type": "code",
   "execution_count": 12,
   "id": "e5c70d08-9235-49e0-801c-ed22aa920bb0",
   "metadata": {},
   "outputs": [
    {
     "name": "stderr",
     "output_type": "stream",
     "text": [
      "[Stage 13:=======>                                                  (1 + 7) / 8]\r"
     ]
    },
    {
     "name": "stdout",
     "output_type": "stream",
     "text": [
      "+------------------+\n",
      "|NAME_CONTRACT_TYPE|\n",
      "+------------------+\n",
      "|   Revolving loans|\n",
      "|        Cash loans|\n",
      "+------------------+\n",
      "\n"
     ]
    },
    {
     "name": "stderr",
     "output_type": "stream",
     "text": [
      "                                                                                \r"
     ]
    }
   ],
   "source": [
    "df_train_merged.select('NAME_CONTRACT_TYPE').distinct().show()"
   ]
  },
  {
   "cell_type": "code",
   "execution_count": 13,
   "id": "e07cd487-5687-4a95-9cdf-5ed2c72926cc",
   "metadata": {},
   "outputs": [],
   "source": [
    "df_train_filtered = df_train_merged.filter(F.col('PREV_LOAN_COUNT').isNotNull())\n",
    "df_train_filtered = df_train_filtered.filter(F.col('NAME_CONTRACT_TYPE').isin('Cash loans'))"
   ]
  },
  {
   "cell_type": "markdown",
   "id": "922c7f8b-403f-4534-b7dd-71b6d67011f7",
   "metadata": {},
   "source": [
    "Lựa chọn cột để sử dụng trong phân tích "
   ]
  },
  {
   "cell_type": "code",
   "execution_count": 26,
   "id": "ec2646c0-8d4d-405f-87bc-87c910cbcc9b",
   "metadata": {},
   "outputs": [
    {
     "name": "stderr",
     "output_type": "stream",
     "text": [
      "                                                                                \r"
     ]
    },
    {
     "name": "stdout",
     "output_type": "stream",
     "text": [
      "Train set:  264668 rows 38 columns\n"
     ]
    }
   ],
   "source": [
    "columns = [\n",
    "    'TARGET',\n",
    "    'CODE_GENDER',\n",
    "    'FLAG_OWN_CAR',\n",
    "    'FLAG_OWN_REALTY',\n",
    "    'CNT_CHILDREN',\n",
    "    'NAME_FAMILY_STATUS',\n",
    "    'CNT_FAM_MEMBERS',\n",
    "    'AMT_INCOME_TOTAL',\n",
    "    'AMT_GOODS_PRICE',\n",
    "    'OCCUPATION_TYPE',\n",
    "    'DAYS_BIRTH',\n",
    "    'NAME_INCOME_TYPE',\n",
    "    'DAYS_EMPLOYED',\n",
    "    'EXT_SOURCE_2',\n",
    "    'NAME_EDUCATION_TYPE',\n",
    "    'REG_REGION_NOT_LIVE_REGION',\n",
    "    'REGION_RATING_CLIENT',\n",
    "    'PREV_ANNUITY_SUM',\n",
    "    'PREV_ANNUITY_MEAN',\n",
    "    'PREV_APPLICATION_SUM',\n",
    "    'PREV_APPLICATION_MEAN',\n",
    "    'PREV_DOWN_PAYMENT_SUM',\n",
    "    'PREV_DOWN_PAYMENT_MEAN',\n",
    "    'PREV_GOODS_PRICE_SUM',\n",
    "    'PREV_GOODS_PRICE_MEAN',\n",
    "    'PREV_PAYMENT_COUNT_SUM',\n",
    "    'PREV_PAYMENT_COUNT_MEAN',\n",
    "    'PREV_RATE_DOWN_PAYMENT_SUM',\n",
    "    'PREV_RATE_DOWN_PAYMENT_MEAN',\n",
    "    'PREV_TYPE_CASH',\n",
    "    'PREV_TYPE_CONSUMER',\n",
    "    'PREV_TYPE_REVOLVING',\n",
    "    'PREV_STATUS_APPROVED',\n",
    "    'PREV_STATUS_CANCELED',\n",
    "    'PREV_STATUS_REFUSED',\n",
    "    'PREV_CLIENT_TYPE_NEW',\n",
    "    'PREV_CLIENT_TYPE_REFRESHED',\n",
    "    'PREV_CLIENT_TYPE_REPEATER'\n",
    "]\n",
    "\n",
    "\n",
    "df_train_selected = df_train_filtered.select(columns)\n",
    "test_columns = [col for col in columns if col != 'TARGET']\n",
    "\n",
    "print(\"Train set: \", df_train_selected.count(), \"rows\", len(df_train_selected.columns), \"columns\")"
   ]
  },
  {
   "cell_type": "markdown",
   "id": "6523b415-6a56-416e-8e3e-9f83a3fcd612",
   "metadata": {},
   "source": [
    "Kiểm tra tỷ lệ nhãn mục tiêu"
   ]
  },
  {
   "cell_type": "code",
   "execution_count": 27,
   "id": "54b3977f-8f5f-4e28-be67-78f68e6ddbe9",
   "metadata": {},
   "outputs": [
    {
     "name": "stderr",
     "output_type": "stream",
     "text": [
      "                                                                                \r"
     ]
    },
    {
     "data": {
      "text/plain": [
       "22366"
      ]
     },
     "execution_count": 27,
     "metadata": {},
     "output_type": "execute_result"
    }
   ],
   "source": [
    "df_train_selected.filter(F.col('TARGET') == 1).count()"
   ]
  },
  {
   "cell_type": "code",
   "execution_count": 28,
   "id": "ef21e1bc-260d-42b1-aaeb-18e1f8df51f8",
   "metadata": {},
   "outputs": [
    {
     "name": "stderr",
     "output_type": "stream",
     "text": [
      "                                                                                \r"
     ]
    },
    {
     "data": {
      "text/plain": [
       "242302"
      ]
     },
     "execution_count": 28,
     "metadata": {},
     "output_type": "execute_result"
    }
   ],
   "source": [
    "df_train_selected.filter(F.col('TARGET') == 0).count()"
   ]
  },
  {
   "cell_type": "markdown",
   "id": "6c8bb11d-73c5-4e15-a719-de61d70f7279",
   "metadata": {},
   "source": [
    "Kiểm tra tính logic của dữ liệu"
   ]
  },
  {
   "cell_type": "code",
   "execution_count": 29,
   "id": "15acdbcd-3247-487b-9ccf-371c2e9c42eb",
   "metadata": {},
   "outputs": [
    {
     "name": "stderr",
     "output_type": "stream",
     "text": [
      "[Stage 92:==>               (1 + 7) / 8][Stage 93:>                 (0 + 1) / 8]\r"
     ]
    },
    {
     "name": "stdout",
     "output_type": "stream",
     "text": [
      "+------+-----------+------------+---------------+------------+------------------+---------------+----------------+---------------+---------------+----------+----------------+-------------+------------+-------------------+--------------------------+--------------------+----------------+-----------------+--------------------+---------------------+---------------------+----------------------+--------------------+---------------------+----------------------+-----------------------+--------------------------+---------------------------+--------------+------------------+-------------------+--------------------+--------------------+-------------------+--------------------+--------------------------+-------------------------+\n",
      "|TARGET|CODE_GENDER|FLAG_OWN_CAR|FLAG_OWN_REALTY|CNT_CHILDREN|NAME_FAMILY_STATUS|CNT_FAM_MEMBERS|AMT_INCOME_TOTAL|AMT_GOODS_PRICE|OCCUPATION_TYPE|DAYS_BIRTH|NAME_INCOME_TYPE|DAYS_EMPLOYED|EXT_SOURCE_2|NAME_EDUCATION_TYPE|REG_REGION_NOT_LIVE_REGION|REGION_RATING_CLIENT|PREV_ANNUITY_SUM|PREV_ANNUITY_MEAN|PREV_APPLICATION_SUM|PREV_APPLICATION_MEAN|PREV_DOWN_PAYMENT_SUM|PREV_DOWN_PAYMENT_MEAN|PREV_GOODS_PRICE_SUM|PREV_GOODS_PRICE_MEAN|PREV_PAYMENT_COUNT_SUM|PREV_PAYMENT_COUNT_MEAN|PREV_RATE_DOWN_PAYMENT_SUM|PREV_RATE_DOWN_PAYMENT_MEAN|PREV_TYPE_CASH|PREV_TYPE_CONSUMER|PREV_TYPE_REVOLVING|PREV_STATUS_APPROVED|PREV_STATUS_CANCELED|PREV_STATUS_REFUSED|PREV_CLIENT_TYPE_NEW|PREV_CLIENT_TYPE_REFRESHED|PREV_CLIENT_TYPE_REPEATER|\n",
      "+------+-----------+------------+---------------+------------+------------------+---------------+----------------+---------------+---------------+----------+----------------+-------------+------------+-------------------+--------------------------+--------------------+----------------+-----------------+--------------------+---------------------+---------------------+----------------------+--------------------+---------------------+----------------------+-----------------------+--------------------------+---------------------------+--------------+------------------+-------------------+--------------------+--------------------+-------------------+--------------------+--------------------------+-------------------------+\n",
      "+------+-----------+------------+---------------+------------+------------------+---------------+----------------+---------------+---------------+----------+----------------+-------------+------------+-------------------+--------------------------+--------------------+----------------+-----------------+--------------------+---------------------+---------------------+----------------------+--------------------+---------------------+----------------------+-----------------------+--------------------------+---------------------------+--------------+------------------+-------------------+--------------------+--------------------+-------------------+--------------------+--------------------------+-------------------------+\n",
      "\n"
     ]
    }
   ],
   "source": [
    "df_train_selected.filter(F.col(\"CNT_CHILDREN\") < 0).show()"
   ]
  },
  {
   "cell_type": "code",
   "execution_count": 31,
   "id": "99a5128f-529c-4e46-abc5-09aba433a876",
   "metadata": {},
   "outputs": [
    {
     "name": "stderr",
     "output_type": "stream",
     "text": [
      "[Stage 100:>                                                        (0 + 1) / 1]\r"
     ]
    },
    {
     "name": "stdout",
     "output_type": "stream",
     "text": [
      "+------+-----------+------------+---------------+------------+--------------------+---------------+----------------+---------------+---------------+----------+----------------+-------------+-------------------+--------------------+--------------------------+--------------------+------------------+------------------+--------------------+---------------------+---------------------+----------------------+--------------------+---------------------+----------------------+-----------------------+--------------------------+---------------------------+--------------+------------------+-------------------+--------------------+--------------------+-------------------+--------------------+--------------------------+-------------------------+\n",
      "|TARGET|CODE_GENDER|FLAG_OWN_CAR|FLAG_OWN_REALTY|CNT_CHILDREN|  NAME_FAMILY_STATUS|CNT_FAM_MEMBERS|AMT_INCOME_TOTAL|AMT_GOODS_PRICE|OCCUPATION_TYPE|DAYS_BIRTH|NAME_INCOME_TYPE|DAYS_EMPLOYED|       EXT_SOURCE_2| NAME_EDUCATION_TYPE|REG_REGION_NOT_LIVE_REGION|REGION_RATING_CLIENT|  PREV_ANNUITY_SUM| PREV_ANNUITY_MEAN|PREV_APPLICATION_SUM|PREV_APPLICATION_MEAN|PREV_DOWN_PAYMENT_SUM|PREV_DOWN_PAYMENT_MEAN|PREV_GOODS_PRICE_SUM|PREV_GOODS_PRICE_MEAN|PREV_PAYMENT_COUNT_SUM|PREV_PAYMENT_COUNT_MEAN|PREV_RATE_DOWN_PAYMENT_SUM|PREV_RATE_DOWN_PAYMENT_MEAN|PREV_TYPE_CASH|PREV_TYPE_CONSUMER|PREV_TYPE_REVOLVING|PREV_STATUS_APPROVED|PREV_STATUS_CANCELED|PREV_STATUS_REFUSED|PREV_CLIENT_TYPE_NEW|PREV_CLIENT_TYPE_REFRESHED|PREV_CLIENT_TYPE_REPEATER|\n",
      "+------+-----------+------------+---------------+------------+--------------------+---------------+----------------+---------------+---------------+----------+----------------+-------------+-------------------+--------------------+--------------------------+--------------------+------------------+------------------+--------------------+---------------------+---------------------+----------------------+--------------------+---------------------+----------------------+-----------------------+--------------------------+---------------------------+--------------+------------------+-------------------+--------------------+--------------------+-------------------+--------------------+--------------------------+-------------------------+\n",
      "|     0|          M|           N|              Y|           0|               Widow|            1.0|        180000.0|       225000.0|           NULL|    -23946|       Pensioner|       365243| 0.4586845685086158|Secondary / secon...|                         0|                   1|        102845.205|      12855.650625|           1384659.0|   125878.09090909091|               2740.5|                 913.5|           1384659.0|           173082.375|                 170.0|                  21.25|        0.1024334152334152|        0.03414447174447174|             8|                 3|                  0|                   6|                   3|                  2|                   1|                         0|                       10|\n",
      "|     0|          F|           N|              N|           0|               Widow|            1.0|        108000.0|       315000.0|           NULL|    -23338|       Pensioner|       365243| 0.6727124369201232|Secondary / secon...|                         0|                   2|           6581.61|           6581.61|             59436.0|              59436.0|                  0.0|                   0.0|             59436.0|              59436.0|                  14.0|                   14.0|                       0.0|                        0.0|             0|                 1|                  0|                   1|                   0|                  0|                   1|                         0|                        0|\n",
      "|     0|          F|           N|              N|           0|             Married|            2.0|        270000.0|       463500.0|           NULL|    -23187|       Pensioner|       365243| 0.4422946612453707|Secondary / secon...|                         0|                   3|         51716.565|         17238.855|            539469.0|             179823.0|               8802.0|                2934.0|            539469.0|             179823.0|                  36.0|                   12.0|       0.10426615526316957|        0.03475538508772319|             0|                 3|                  0|                   3|                   0|                  0|                   1|                         1|                        1|\n",
      "|     0|          F|           N|              Y|           1|             Married|            3.0|         67500.0|       675000.0|           NULL|    -21401|       Pensioner|       365243| 0.7307512832888281|Secondary / secon...|                         0|                   2|         47136.735|         7856.1225|           1368756.0|   124432.36363636363|               5926.5|                5926.5|           1368756.0|             228126.0|                  24.0|                    4.0|       0.10001622810631944|        0.10001622810631944|             3|                 1|                  7|                   4|                   5|                  2|                   1|                         9|                        1|\n",
      "|     0|          F|           N|              Y|           0|               Widow|            1.0|         58500.0|       148500.0|           NULL|    -23794|       Pensioner|       365243| 0.4487337237131814|Secondary / secon...|                         0|                   2|         20773.935|          6924.645|            272695.5|              90898.5|               2385.0|                1192.5|            272695.5|              90898.5|                  48.0|                   16.0|        0.1071303232773166|         0.0535651616386583|             1|                 2|                  0|                   3|                   0|                  0|                   1|                         0|                        2|\n",
      "|     0|          F|           N|              Y|           0|               Widow|            1.0|        112500.0|       225000.0|           NULL|    -23049|       Pensioner|       365243| 0.4818269975107381|Secondary / secon...|                         0|                   2|          39467.43|         9866.8575|           389127.15|    77825.43000000001|             37173.15|             9293.2875|           389127.15|           97281.7875|                  44.0|                   11.0|        0.3192294506221253|        0.07980736265553133|             1|                 4|                  0|                   3|                   1|                  1|                   1|                         1|                        3|\n",
      "|     0|          F|           Y|              N|           0|             Married|            2.0|         67500.0|       265500.0|           NULL|    -21306|       Pensioner|       365243|0.14299679405082213|Secondary / secon...|                         0|                   3|          78243.66|         15648.732|            819000.0|             163800.0|              82800.0|               20700.0|            819000.0|             163800.0|                  68.0|                   13.6|        0.5826328443196644|         0.1456582110799161|             3|                 2|                  0|                   5|                   0|                  0|                   1|                         0|                        4|\n",
      "|     0|          F|           N|              Y|           0|               Widow|            1.0|        126000.0|       603000.0|           NULL|    -21314|       Pensioner|       365243| 0.2997892593212273|     Lower secondary|                         0|                   2|         21398.265|          7132.755|            283608.0|              70902.0|               5863.5|                5863.5|            283608.0|              94536.0|                  30.0|                   10.0|        0.1089592640160822|         0.1089592640160822|             2|                 1|                  1|                   3|                   1|                  0|                   1|                         0|                        3|\n",
      "|     0|          M|           Y|              Y|           0|             Married|            2.0|        112500.0|       225000.0|           NULL|    -22725|       Pensioner|       365243| 0.4290908985018419|    Higher education|                         0|                   2|         85977.315|        14329.5525|           1596496.5|            266082.75|              15655.5|               7827.75|           1596496.5|            266082.75|                 116.0|     19.333333333333332|       0.21037342240193857|        0.10518671120096929|             3|                 2|                  1|                   4|                   0|                  2|                   0|                         2|                        4|\n",
      "|     0|          F|           N|              Y|           0|             Married|            2.0|        225000.0|       463500.0|           NULL|    -21435|       Pensioner|       365243|0.06707039721858178|Secondary / secon...|                         0|                   3|174880.43999999997| 43720.10999999999|           2000218.5|             400043.7|              57739.5|              28869.75|           2000218.5|           500054.625|                  60.0|                   15.0|        0.3024388464795988|         0.1512194232397994|             3|                 2|                  0|                   4|                   1|                  0|                   1|                         0|                        4|\n",
      "|     0|          F|           N|              N|           0|             Married|            2.0|         67500.0|       180000.0|           NULL|    -21817|       Pensioner|       365243|0.15732840499052822|Secondary / secon...|                         0|                   3|          70398.99|        17599.7475|           1227933.0|             204655.5|                  0.0|                   0.0|           1227933.0|            306983.25|                 128.0|                   32.0|                       0.0|                        0.0|             4|                 2|                  0|                   4|                   2|                  0|                   1|                         0|                        5|\n",
      "|     0|          F|           N|              Y|           0|             Married|            2.0|        112500.0|       450000.0|           NULL|    -22478|       Pensioner|       365243| 0.5639298077729205|Secondary / secon...|                         0|                   2|         15296.805|         15296.805|            145269.0|             145269.0|                  0.0|                   0.0|            145269.0|             145269.0|                  10.0|                   10.0|                       0.0|                        0.0|             0|                 1|                  0|                   1|                   0|                  0|                   1|                         0|                        0|\n",
      "|     0|          F|           N|              Y|           0|Single / not married|            1.0|        112500.0|        90000.0|           NULL|    -22321|       Pensioner|       365243| 0.6648997107138932|     Lower secondary|                         0|                   2|         106346.16|          17724.36|           1005750.0|             111750.0|                  0.0|                   0.0|           1005750.0|             167625.0|                  78.0|                   13.0|                       0.0|                        0.0|             8|                 1|                  0|                   6|                   3|                  0|                   1|                         0|                        8|\n",
      "|     0|          M|           Y|              Y|           0|             Married|            2.0|         45000.0|       225000.0|           NULL|    -21246|       Pensioner|       365243| 0.5537300119968289|Secondary / secon...|                         0|                   2|          29383.47|          4897.245|            238779.0|              39796.5|              36616.5|               6102.75|            238779.0|              39796.5|                  56.0|      9.333333333333334|        0.9268913093920836|        0.15448188489868062|             0|                 6|                  0|                   6|                   0|                  0|                   0|                         0|                        6|\n",
      "|     0|          F|           N|              N|           0|               Widow|            1.0|         67500.0|        90000.0|           NULL|    -21991|       Pensioner|       365243| 0.5697445889788223|Secondary / secon...|                         0|                   2|         18623.295|         9311.6475|            154755.0|              77377.5|               2250.0|                2250.0|            154755.0|              77377.5|                  18.0|                    9.0|       0.11881855870509588|        0.11881855870509588|             1|                 1|                  0|                   2|                   0|                  0|                   1|                         1|                        0|\n",
      "|     0|          F|           N|              Y|           0|               Widow|            1.0|         67500.0|       225000.0|           NULL|    -20171|       Pensioner|       365243| 0.5675829828198119|Secondary / secon...|                         0|                   2|62413.560000000005| 8916.222857142859|            565470.0|    80781.42857142857|              58576.5|               9762.75|            565470.0|    80781.42857142857|                  70.0|                   10.0|        0.6922097968741953|        0.11536829947903254|             1|                 6|                  0|                   7|                   0|                  0|                   2|                         0|                        5|\n",
      "|     0|          F|           N|              Y|           0|           Separated|            1.0|         63000.0|       229500.0|           NULL|    -23014|       Pensioner|       365243| 0.2653117484731741|Secondary / secon...|                         0|                   2|           7395.48|           7395.48|             90000.0|              45000.0|                 NULL|                  NULL|             90000.0|              90000.0|                  18.0|                   18.0|                      NULL|                       NULL|             2|                 0|                  0|                   1|                   1|                  0|                   0|                         2|                        0|\n",
      "|     0|          M|           Y|              Y|           0|             Married|            2.0|        166500.0|       112500.0|           NULL|    -22637|       Pensioner|       365243| 0.7848529781544666|    Higher education|                         0|                   2|            7194.6|            7194.6|             92187.0|              46093.5|               6295.5|               3147.75|             92187.0|              46093.5|                  10.0|                   10.0|       0.10137987769100944|        0.05068993884550472|             0|                 2|                  0|                   1|                   0|                  0|                   1|                         1|                        0|\n",
      "|     0|          F|           N|              Y|           0|             Married|            2.0|        180000.0|       297000.0|           NULL|    -23496|       Pensioner|       365243| 0.7233964299038297|    Higher education|                         0|                   1|105771.55500000001|15110.222142857145|           2216236.5|             147749.1|              10260.0|                5130.0|           2216236.5|   316605.21428571426|                 192.0|     27.428571428571427|       0.09406854084658378|        0.04703427042329189|            12|                 2|                  1|                   4|                   8|                  3|                   1|                         0|                       14|\n",
      "|     0|          F|           N|              Y|           0|Single / not married|            1.0|        157500.0|       675000.0|           NULL|    -21945|       Pensioner|       365243| 0.6400003108379252|    Higher education|                         0|                   2|          18235.62|           6078.54|            133577.1|            33394.275|                  1.8|                   0.6|            133577.1|   44525.700000000004|                  26.0|      8.666666666666666|       3.89852129542851E-5|        1.29950709847617E-5|             0|                 3|                  1|                   3|                   0|                  0|                   0|                         0|                        4|\n",
      "+------+-----------+------------+---------------+------------+--------------------+---------------+----------------+---------------+---------------+----------+----------------+-------------+-------------------+--------------------+--------------------------+--------------------+------------------+------------------+--------------------+---------------------+---------------------+----------------------+--------------------+---------------------+----------------------+-----------------------+--------------------------+---------------------------+--------------+------------------+-------------------+--------------------+--------------------+-------------------+--------------------+--------------------------+-------------------------+\n",
      "only showing top 20 rows\n",
      "\n"
     ]
    },
    {
     "name": "stderr",
     "output_type": "stream",
     "text": [
      "                                                                                \r"
     ]
    }
   ],
   "source": [
    "df_train_selected.filter(F.col(\"DAYS_EMPLOYED\") > 0).show()"
   ]
  },
  {
   "cell_type": "code",
   "execution_count": 32,
   "id": "f653362b-8c9d-49fa-bac7-10482965acfe",
   "metadata": {},
   "outputs": [],
   "source": [
    "df_train_selected = df_train_selected.withColumn(\n",
    "    \"DAYS_EMPLOYED\",\n",
    "    F.when(F.col(\"DAYS_EMPLOYED\") > 0, 0)\n",
    "     .otherwise(F.col(\"DAYS_EMPLOYED\"))\n",
    ")"
   ]
  },
  {
   "cell_type": "markdown",
   "id": "7e5bc550-048b-4597-80b1-9b4a66ff34dd",
   "metadata": {},
   "source": [
    "# Xử lí dữ liệu thiếu"
   ]
  },
  {
   "cell_type": "code",
   "execution_count": 33,
   "id": "c3e17e27-139f-4cca-a2c3-e67a4b9da762",
   "metadata": {},
   "outputs": [
    {
     "name": "stderr",
     "output_type": "stream",
     "text": [
      "[Stage 105:=========================>                               (4 + 5) / 9]\r"
     ]
    },
    {
     "name": "stdout",
     "output_type": "stream",
     "text": [
      "+------+-----------+------------+---------------+------------+------------------+---------------+----------------+---------------+---------------+----------+----------------+-------------+------------+-------------------+--------------------------+--------------------+----------------+-----------------+--------------------+---------------------+---------------------+----------------------+--------------------+---------------------+----------------------+-----------------------+--------------------------+---------------------------+--------------+------------------+-------------------+--------------------+--------------------+-------------------+--------------------+--------------------------+-------------------------+\n",
      "|TARGET|CODE_GENDER|FLAG_OWN_CAR|FLAG_OWN_REALTY|CNT_CHILDREN|NAME_FAMILY_STATUS|CNT_FAM_MEMBERS|AMT_INCOME_TOTAL|AMT_GOODS_PRICE|OCCUPATION_TYPE|DAYS_BIRTH|NAME_INCOME_TYPE|DAYS_EMPLOYED|EXT_SOURCE_2|NAME_EDUCATION_TYPE|REG_REGION_NOT_LIVE_REGION|REGION_RATING_CLIENT|PREV_ANNUITY_SUM|PREV_ANNUITY_MEAN|PREV_APPLICATION_SUM|PREV_APPLICATION_MEAN|PREV_DOWN_PAYMENT_SUM|PREV_DOWN_PAYMENT_MEAN|PREV_GOODS_PRICE_SUM|PREV_GOODS_PRICE_MEAN|PREV_PAYMENT_COUNT_SUM|PREV_PAYMENT_COUNT_MEAN|PREV_RATE_DOWN_PAYMENT_SUM|PREV_RATE_DOWN_PAYMENT_MEAN|PREV_TYPE_CASH|PREV_TYPE_CONSUMER|PREV_TYPE_REVOLVING|PREV_STATUS_APPROVED|PREV_STATUS_CANCELED|PREV_STATUS_REFUSED|PREV_CLIENT_TYPE_NEW|PREV_CLIENT_TYPE_REFRESHED|PREV_CLIENT_TYPE_REPEATER|\n",
      "+------+-----------+------------+---------------+------------+------------------+---------------+----------------+---------------+---------------+----------+----------------+-------------+------------+-------------------+--------------------------+--------------------+----------------+-----------------+--------------------+---------------------+---------------------+----------------------+--------------------+---------------------+----------------------+-----------------------+--------------------------+---------------------------+--------------+------------------+-------------------+--------------------+--------------------+-------------------+--------------------+--------------------------+-------------------------+\n",
      "|     0|          0|           0|              0|           0|                 0|              0|               0|              0|          84388|         0|               0|            0|         535|                  0|                         0|                   0|             404|              404|                   0|                    0|                16478|                 16478|                 965|                  965|                   402|                    402|                     16478|                      16478|             0|                 0|                  0|                   0|                   0|                  0|                   0|                         0|                        0|\n",
      "+------+-----------+------------+---------------+------------+------------------+---------------+----------------+---------------+---------------+----------+----------------+-------------+------------+-------------------+--------------------------+--------------------+----------------+-----------------+--------------------+---------------------+---------------------+----------------------+--------------------+---------------------+----------------------+-----------------------+--------------------------+---------------------------+--------------+------------------+-------------------+--------------------+--------------------+-------------------+--------------------+--------------------------+-------------------------+\n",
      "\n"
     ]
    },
    {
     "name": "stderr",
     "output_type": "stream",
     "text": [
      "                                                                                \r"
     ]
    }
   ],
   "source": [
    "df_train_selected.select([F.count(F.when(F.isnan(c) | F.col(c).isNull(), c)).alias(c) for c in df_train_selected.columns]).show()"
   ]
  },
  {
   "cell_type": "code",
   "execution_count": 34,
   "id": "ddd697a8-abb1-4b2b-bede-2c4f1408bdce",
   "metadata": {},
   "outputs": [
    {
     "name": "stderr",
     "output_type": "stream",
     "text": [
      "[Stage 114:>                                                        (0 + 8) / 9]\r"
     ]
    },
    {
     "name": "stdout",
     "output_type": "stream",
     "text": [
      "Column: OCCUPATION_TYPE, NULL Count: 84388\n",
      "Column: EXT_SOURCE_2, NULL Count: 535\n",
      "Column: PREV_ANNUITY_SUM, NULL Count: 404\n",
      "Column: PREV_ANNUITY_MEAN, NULL Count: 404\n",
      "Column: PREV_DOWN_PAYMENT_SUM, NULL Count: 16478\n",
      "Column: PREV_DOWN_PAYMENT_MEAN, NULL Count: 16478\n",
      "Column: PREV_GOODS_PRICE_SUM, NULL Count: 965\n",
      "Column: PREV_GOODS_PRICE_MEAN, NULL Count: 965\n",
      "Column: PREV_PAYMENT_COUNT_SUM, NULL Count: 402\n",
      "Column: PREV_PAYMENT_COUNT_MEAN, NULL Count: 402\n",
      "Column: PREV_RATE_DOWN_PAYMENT_SUM, NULL Count: 16478\n",
      "Column: PREV_RATE_DOWN_PAYMENT_MEAN, NULL Count: 16478\n"
     ]
    },
    {
     "name": "stderr",
     "output_type": "stream",
     "text": [
      "                                                                                \r"
     ]
    }
   ],
   "source": [
    "from pyspark.sql.functions import col, sum\n",
    "null_counts_df = df_train_selected.select([sum(col(c).isNull().cast(\"int\")).alias(c) for c in df_train_selected.columns])\n",
    "null_counts_row = null_counts_df.collect()[0].asDict()\n",
    "null_columns = {column: count for column, count in null_counts_row.items() if count > 0}\n",
    "\n",
    "for column, count in null_columns.items():\n",
    "    print(f\"Column: {column}, NULL Count: {count}\")"
   ]
  },
  {
   "cell_type": "code",
   "execution_count": 35,
   "id": "a2d8b182-203b-4d9d-8fe9-3bbc6d9f9d41",
   "metadata": {},
   "outputs": [],
   "source": [
    "df_train_selected = df_train_selected.withColumn(\n",
    "    \"OCCUPATION_TYPE\",\n",
    "    F.when(F.col(\"OCCUPATION_TYPE\").isNull(), \"Unknown\").otherwise(F.col(\"OCCUPATION_TYPE\"))\n",
    ")"
   ]
  },
  {
   "cell_type": "code",
   "execution_count": 38,
   "id": "5a96f375-d379-4716-afbd-0293e1f9d0fc",
   "metadata": {},
   "outputs": [
    {
     "name": "stderr",
     "output_type": "stream",
     "text": [
      "                                                                                \r"
     ]
    }
   ],
   "source": [
    "from pyspark.sql import SparkSession\n",
    "from pyspark.sql import functions as F\n",
    "from pyspark.sql.window import Window\n",
    "df_sorted = df_train_selected.select(\"EXT_SOURCE_2\").filter(df_train_selected[\"EXT_SOURCE_2\"].isNotNull()).orderBy(\"EXT_SOURCE_2\")\n",
    "count = df_sorted.count()\n",
    "if count % 2 == 0:\n",
    "    median1 = df_sorted.collect()[count // 2 - 1][0]\n",
    "    median2 = df_sorted.collect()[count // 2][0]\n",
    "    median_ext_source_2 = (median1 + median2) / 2\n",
    "else:\n",
    "    median_ext_source_2 = df_sorted.collect()[count // 2][0]\n",
    "\n",
    "df_train_selected = df_train_selected.withColumn(\"EXT_SOURCE_2\", \n",
    "                          F.when(df_train_selected[\"EXT_SOURCE_2\"].isNull(), median_ext_source_2)\n",
    "                           .otherwise(df_train_selected[\"EXT_SOURCE_2\"]))"
   ]
  },
  {
   "cell_type": "code",
   "execution_count": 39,
   "id": "87aa44df-5c8b-462d-8297-6c24f6700888",
   "metadata": {},
   "outputs": [],
   "source": [
    "df_train_selected = df_train_selected.fillna(0)"
   ]
  },
  {
   "cell_type": "markdown",
   "id": "36018a73-addf-4133-be3c-ce1cc8f8a6d0",
   "metadata": {},
   "source": [
    "# Feature Engineering"
   ]
  },
  {
   "cell_type": "code",
   "execution_count": 40,
   "id": "a79101da-6434-4225-b499-6090cf69f5af",
   "metadata": {},
   "outputs": [
    {
     "name": "stderr",
     "output_type": "stream",
     "text": [
      "                                                                                \r"
     ]
    },
    {
     "data": {
      "text/plain": [
       "['Managers',\n",
       " 'HR staff',\n",
       " 'Medicine staff',\n",
       " 'Accountants',\n",
       " 'Laborers',\n",
       " 'Unknown',\n",
       " 'Cleaning staff',\n",
       " 'Private service staff',\n",
       " 'Drivers',\n",
       " 'Sales staff',\n",
       " 'Realty agents',\n",
       " 'IT staff',\n",
       " 'Security staff',\n",
       " 'Secretaries',\n",
       " 'Low-skill Laborers',\n",
       " 'Core staff',\n",
       " 'Cooking staff',\n",
       " 'High skill tech staff',\n",
       " 'Waiters/barmen staff']"
      ]
     },
     "execution_count": 40,
     "metadata": {},
     "output_type": "execute_result"
    }
   ],
   "source": [
    "occ = []\n",
    "for i in df_train_selected.select('OCCUPATION_TYPE').distinct().collect():\n",
    "  occ.append(i[0])\n",
    "occ"
   ]
  },
  {
   "cell_type": "code",
   "execution_count": 41,
   "id": "da270631-73c3-4f1d-b244-17ea71247a43",
   "metadata": {},
   "outputs": [],
   "source": [
    "df_train_selected = df_train_selected.withColumn(\"job_group\", F.when(F.col(\"OCCUPATION_TYPE\").isin( # Changed 'occupation' to 'OCCUPATION_TYPE'\n",
    "    \"Managers\", \"HR staff\", \"Secretaries\", \"Core staff\"), \"Management & Admin Support\")\n",
    "    .when(F.col(\"OCCUPATION_TYPE\").isin( # Changed 'occupation' to 'OCCUPATION_TYPE'\n",
    "    \"Medicine staff\", \"IT staff\", \"Accountants\", \"High skill tech staff\", \"Realty agents\"), \"Professional/Technical\")\n",
    "    .when(F.col(\"OCCUPATION_TYPE\").isin( # Changed 'occupation' to 'OCCUPATION_TYPE'\n",
    "    \"Sales staff\", \"Private service staff\", \"Waiters/barmen staff\", \"Cooking staff\", \"Drivers\"), \"Service & Sales\")\n",
    "    .otherwise(\"Other occupation\")\n",
    ")"
   ]
  },
  {
   "cell_type": "code",
   "execution_count": 42,
   "id": "30534a4f-0ebc-46c8-ba33-a4c84ff5cf24",
   "metadata": {},
   "outputs": [
    {
     "name": "stderr",
     "output_type": "stream",
     "text": [
      "[Stage 161:=============================================>           (4 + 1) / 5]\r"
     ]
    },
    {
     "name": "stdout",
     "output_type": "stream",
     "text": [
      "+--------------------+\n",
      "|           job_group|\n",
      "+--------------------+\n",
      "|     Service & Sales|\n",
      "|    Other occupation|\n",
      "|Professional/Tech...|\n",
      "|Management & Admi...|\n",
      "+--------------------+\n",
      "\n"
     ]
    },
    {
     "name": "stderr",
     "output_type": "stream",
     "text": [
      "                                                                                \r"
     ]
    }
   ],
   "source": [
    "df_train_selected.select('job_group').distinct().show()"
   ]
  },
  {
   "cell_type": "code",
   "execution_count": 43,
   "id": "43acc924-435d-4788-8c10-db1c48648957",
   "metadata": {},
   "outputs": [
    {
     "name": "stderr",
     "output_type": "stream",
     "text": [
      "[Stage 169:==================================================>      (8 + 1) / 9]\r"
     ]
    },
    {
     "name": "stdout",
     "output_type": "stream",
     "text": [
      "+-------+-------------------+-----------+------------+---------------+-------------------+------------------+------------------+------------------+-----------------+--------------------+-------------------+--------------------+-------------------+--------------------+--------------------+--------------------------+--------------------+-----------------+------------------+--------------------+---------------------+---------------------+----------------------+--------------------+---------------------+----------------------+-----------------------+--------------------------+---------------------------+-----------------+------------------+-------------------+--------------------+--------------------+-------------------+--------------------+--------------------------+-------------------------+--------------------+\n",
      "|summary|             TARGET|CODE_GENDER|FLAG_OWN_CAR|FLAG_OWN_REALTY|       CNT_CHILDREN|NAME_FAMILY_STATUS|   CNT_FAM_MEMBERS|  AMT_INCOME_TOTAL|  AMT_GOODS_PRICE|     OCCUPATION_TYPE|         DAYS_BIRTH|    NAME_INCOME_TYPE|      DAYS_EMPLOYED|        EXT_SOURCE_2| NAME_EDUCATION_TYPE|REG_REGION_NOT_LIVE_REGION|REGION_RATING_CLIENT| PREV_ANNUITY_SUM| PREV_ANNUITY_MEAN|PREV_APPLICATION_SUM|PREV_APPLICATION_MEAN|PREV_DOWN_PAYMENT_SUM|PREV_DOWN_PAYMENT_MEAN|PREV_GOODS_PRICE_SUM|PREV_GOODS_PRICE_MEAN|PREV_PAYMENT_COUNT_SUM|PREV_PAYMENT_COUNT_MEAN|PREV_RATE_DOWN_PAYMENT_SUM|PREV_RATE_DOWN_PAYMENT_MEAN|   PREV_TYPE_CASH|PREV_TYPE_CONSUMER|PREV_TYPE_REVOLVING|PREV_STATUS_APPROVED|PREV_STATUS_CANCELED|PREV_STATUS_REFUSED|PREV_CLIENT_TYPE_NEW|PREV_CLIENT_TYPE_REFRESHED|PREV_CLIENT_TYPE_REPEATER|           job_group|\n",
      "+-------+-------------------+-----------+------------+---------------+-------------------+------------------+------------------+------------------+-----------------+--------------------+-------------------+--------------------+-------------------+--------------------+--------------------+--------------------------+--------------------+-----------------+------------------+--------------------+---------------------+---------------------+----------------------+--------------------+---------------------+----------------------+-----------------------+--------------------------+---------------------------+-----------------+------------------+-------------------+--------------------+--------------------+-------------------+--------------------+--------------------------+-------------------------+--------------------+\n",
      "|  count|             264668|     264668|      264668|         264668|             264668|            264668|            264668|            264668|           264668|              264668|             264668|              264668|             264668|              264668|              264668|                    264668|              264668|           264668|            264668|              264668|               264668|               264668|                264668|              264668|               264668|                264668|                 264668|                    264668|                     264668|           264668|            264668|             264668|              264668|              264668|             264668|              264668|                    264668|                   264668|              264668|\n",
      "|   mean|0.08450587150694455|       NULL|        NULL|           NULL|0.41446642586183446|              NULL|2.1556100473045476|168578.38241092613| 553757.981149969|                NULL|-16165.542279383983|                NULL|-1971.2035002342557|  0.5123656233105356|                NULL|      0.014044009853854641|  2.0607855879819246|61558.01577829588| 14611.86327192745|   871733.7112151459|    155339.9998617339|   15232.665529059032|    6680.3799746710965|   871847.2874691698|   195694.64456533926|     62.16470823824565|      14.53583914247374|        0.1835083337692114|        0.07733429387588697|2.220706696691704|2.1416604954131215| 0.5752187646409842|   3.085265313524869|  0.9126603896202035| 0.8627828071395106|  0.8856680822766636|       0.40067934166578506|        3.646950141309112|                NULL|\n",
      "| stddev|0.27814550418281125|       NULL|        NULL|           NULL|  0.723218343966314|              NULL|0.9084696458001721|250117.13632909875|363783.6578047166|                NULL| 4334.0607373180865|                NULL|  2316.627382371983|  0.1918545535684765|                NULL|       0.11767254547601874|  0.5067081339719985| 74008.6098749039|10057.719903973039|  1367491.2763663547|    154670.4525671643|    40121.89082219054|    18268.374265256716|   1367721.453080124|    194539.3771378465|     75.46366626908114|       8.48119060724257|       0.23601049011104566|        0.08903566661799589|3.277773821630266|1.8131703595033364|  1.012467376350615|  2.1385445154072293|  1.6957890865148946| 1.8403871233994966|  0.5724539742649991|        0.8839926114957389|        4.215042218546885|                NULL|\n",
      "|    min|                  0|          F|           N|              N|                  0|    Civil marriage|               1.0|           25650.0|          40500.0|         Accountants|             -25201|Commercial associate|             -17912|8.173616518884397E-8|     Academic degree|                         0|                   1|              0.0|               0.0|                 0.0|                  0.0|                -0.45|                -0.225|                 0.0|                  0.0|                   0.0|                    0.0|      -1.49787634143078...|       -7.48938170715392...|                0|                 0|                  0|                   0|                   0|                  0|                   0|                         0|                        0|Management & Admi...|\n",
      "|    max|                  1|          M|           Y|              Y|                 19|             Widow|              20.0|            1.17E8|        4050000.0|Waiters/barmen staff|              -7489|             Working|                  0|  0.8549996664047012|Secondary / secon...|                         1|                   3|      2051102.655|        300425.445|        3.67919145E7|            4050000.0|          4037849.595|             2025000.0|        3.67919145E7|            4050000.0|                1788.0|                   72.0|        4.4763511363600434|         0.9807152645111248|               60|                45|                 31|                  27|                  57|                 68|                  26|                        36|                       71|     Service & Sales|\n",
      "+-------+-------------------+-----------+------------+---------------+-------------------+------------------+------------------+------------------+-----------------+--------------------+-------------------+--------------------+-------------------+--------------------+--------------------+--------------------------+--------------------+-----------------+------------------+--------------------+---------------------+---------------------+----------------------+--------------------+---------------------+----------------------+-----------------------+--------------------------+---------------------------+-----------------+------------------+-------------------+--------------------+--------------------+-------------------+--------------------+--------------------------+-------------------------+--------------------+\n",
      "\n"
     ]
    },
    {
     "name": "stderr",
     "output_type": "stream",
     "text": [
      "                                                                                \r"
     ]
    }
   ],
   "source": [
    "df_train_selected.describe().show()"
   ]
  },
  {
   "cell_type": "markdown",
   "id": "a25b374c-b0a8-440d-944b-54ebb7648525",
   "metadata": {},
   "source": [
    "# Xử lí outliers"
   ]
  },
  {
   "cell_type": "code",
   "execution_count": 44,
   "id": "468dec7f-1db7-45cb-a738-67f662c5e413",
   "metadata": {},
   "outputs": [
    {
     "name": "stderr",
     "output_type": "stream",
     "text": [
      "                                                                                \r"
     ]
    },
    {
     "name": "stdout",
     "output_type": "stream",
     "text": [
      "+------+-----------+------------+---------------+------------+--------------------+---------------+----------------+---------------+--------------------+----------+--------------------+-------------+-------------------+--------------------+--------------------------+--------------------+------------------+------------------+--------------------+---------------------+---------------------+----------------------+--------------------+---------------------+----------------------+-----------------------+--------------------------+---------------------------+--------------+------------------+-------------------+--------------------+--------------------+-------------------+--------------------+--------------------------+-------------------------+--------------------+\n",
      "|TARGET|CODE_GENDER|FLAG_OWN_CAR|FLAG_OWN_REALTY|CNT_CHILDREN|  NAME_FAMILY_STATUS|CNT_FAM_MEMBERS|AMT_INCOME_TOTAL|AMT_GOODS_PRICE|     OCCUPATION_TYPE|DAYS_BIRTH|    NAME_INCOME_TYPE|DAYS_EMPLOYED|       EXT_SOURCE_2| NAME_EDUCATION_TYPE|REG_REGION_NOT_LIVE_REGION|REGION_RATING_CLIENT|  PREV_ANNUITY_SUM| PREV_ANNUITY_MEAN|PREV_APPLICATION_SUM|PREV_APPLICATION_MEAN|PREV_DOWN_PAYMENT_SUM|PREV_DOWN_PAYMENT_MEAN|PREV_GOODS_PRICE_SUM|PREV_GOODS_PRICE_MEAN|PREV_PAYMENT_COUNT_SUM|PREV_PAYMENT_COUNT_MEAN|PREV_RATE_DOWN_PAYMENT_SUM|PREV_RATE_DOWN_PAYMENT_MEAN|PREV_TYPE_CASH|PREV_TYPE_CONSUMER|PREV_TYPE_REVOLVING|PREV_STATUS_APPROVED|PREV_STATUS_CANCELED|PREV_STATUS_REFUSED|PREV_CLIENT_TYPE_NEW|PREV_CLIENT_TYPE_REFRESHED|PREV_CLIENT_TYPE_REPEATER|           job_group|\n",
      "+------+-----------+------------+---------------+------------+--------------------+---------------+----------------+---------------+--------------------+----------+--------------------+-------------+-------------------+--------------------+--------------------------+--------------------+------------------+------------------+--------------------+---------------------+---------------------+----------------------+--------------------+---------------------+----------------------+-----------------------+--------------------------+---------------------------+--------------+------------------+-------------------+--------------------+--------------------+-------------------+--------------------+--------------------------+-------------------------+--------------------+\n",
      "|     0|          F|           N|              Y|           0|Single / not married|            1.0|        180000.0|      1125000.0|High skill tech s...|    -20763|Commercial associate|        -9828| 0.5870625070342449|Secondary / secon...|                         0|                   2|          35788.05|         8947.0125|            348727.5|              69745.5|               9486.0|                1897.2|            348727.5|              69745.5|                  41.0|                  10.25|       0.17769747800586505|        0.03553949560117301|             0|                 5|                  0|                   4|                   0|                  0|                   0|                         0|                        5|Professional/Tech...|\n",
      "|     0|          F|           N|              Y|           0|Single / not married|            1.0|        360000.0|       225000.0|             Unknown|    -17375|             Working|        -9134| 0.7167807791963775|Secondary / secon...|                         0|                   1|         210517.38|          23390.82|           4067550.0|    369777.2727272727|              31423.5|                6284.7|           4067550.0|             451950.0|                 217.0|      24.11111111111111|       0.37066908857190384|        0.07413381771438077|             7|                 4|                  0|                   8|                   2|                  1|                   0|                         0|                       11|    Other occupation|\n",
      "|     0|          F|           N|              Y|           0|             Married|            2.0|        121500.0|       900000.0|            Laborers|    -19008|Commercial associate|        -6727| 0.6937065139959778|Secondary / secon...|                         0|                   2|        194520.195|        32420.0325|           2696827.5|    385261.0714285714|              29812.5|                9937.5|           2696827.5|             539365.5|                  98.0|     16.333333333333332|        0.2178181818181818|         0.0726060606060606|             3|                 3|                  1|                   5|                   1|                  1|                   0|                         2|                        5|    Other occupation|\n",
      "|     0|          M|           Y|              Y|           0|             Married|            2.0|        225000.0|       225000.0|            Managers|    -18161|Commercial associate|        -8852| 0.7531358259207691|    Higher education|                         0|                   3|         168860.34|24122.905714285713|           3502341.0|    500334.4285714286|              39060.0|               19530.0|           3502341.0|    500334.4285714286|                 154.0|                   22.0|        0.5269508643721524|         0.2634754321860762|             4|                 2|                  1|                   6|                   0|                  1|                   1|                         0|                        6|Management & Admi...|\n",
      "|     0|          F|           N|              Y|           0|             Married|            2.0|        135000.0|       225000.0|             Unknown|    -24000|             Working|        -8168| 0.5854818755640158|Secondary / secon...|                         0|                   3|         64793.205| 9256.172142857144|            530973.0|            66371.625|              16065.0|                2677.5|            530973.0|    75853.28571428571|                  70.0|                   10.0|       0.26844947609744707|        0.04474157934957451|             3|                 5|                  0|                   7|                   1|                  0|                   0|                         0|                        8|    Other occupation|\n",
      "|     0|          F|           N|              N|           0|               Widow|            1.0|        261000.0|       225000.0|             Unknown|    -24073|       State servant|       -12471|0.14096687540535258|Secondary / secon...|                         0|                   2|115890.16500000001|28972.541250000002|           1473660.0|             294732.0|                  0.0|                   0.0|           1473660.0|             368415.0|                  66.0|                   16.5|                       0.0|                        0.0|             4|                 1|                  0|                   3|                   1|                  1|                   1|                         0|                        4|    Other occupation|\n",
      "|     0|          F|           N|              N|           0|             Married|            2.0|         67500.0|       175500.0|High skill tech s...|    -15592|Commercial associate|        -7827| 0.5845050334197007|Secondary / secon...|                         0|                   2|         114475.41|22895.082000000002|            974925.0|             194985.0|              24390.0|               12195.0|            974925.0|            243731.25|                  70.0|                   14.0|        0.4271871998315766|         0.2135935999157883|             2|                 2|                  1|                   5|                   0|                  0|                   1|                         0|                        4|Professional/Tech...|\n",
      "|     0|          F|           N|              N|           0|               Widow|            1.0|        135000.0|       688500.0|          Core staff|    -19560|       State servant|        -9071|  0.576405383562444|Secondary / secon...|                         0|                   3|        179947.125|16358.829545454546|           2789001.0|   214538.53846153847|              34164.0|                5694.0|           2789001.0|   253545.54545454544|                 222.0|     20.181818181818183|        0.4598876434105124|        0.07664794056841874|             9|                 4|                  0|                   8|                   2|                  3|                   1|                         0|                       12|Management & Admi...|\n",
      "|     0|          F|           N|              N|           0|             Married|            2.0|         94500.0|       585000.0|            Laborers|    -16511|             Working|        -7054| 0.5447106808190174|Secondary / secon...|                         0|                   2|            2250.0|            2250.0|             45000.0|              22500.0|                  0.0|                   0.0|             45000.0|              45000.0|                   0.0|                    0.0|                       0.0|                        0.0|             1|                 0|                  1|                   1|                   1|                  0|                   1|                         0|                        1|    Other occupation|\n",
      "|     0|          F|           N|              N|           0|Single / not married|            1.0|        261000.0|       546021.0|            Laborers|    -18265|             Working|       -11647| 0.6291798736899589|    Higher education|                         0|                   3|         52418.835|         17472.945|            954000.0|             238500.0|                  0.0|                   0.0|            954000.0|             477000.0|                  84.0|                   28.0|                       0.0|                        0.0|             3|                 0|                  1|                   3|                   1|                  0|                   0|                         0|                        4|    Other occupation|\n",
      "|     0|          F|           N|              Y|           0|             Married|            2.0|        180000.0|       382500.0|      Medicine staff|    -22895|Commercial associate|       -15713| 0.7254525755266108|Secondary / secon...|                         0|                   1| 79603.60500000001|15920.721000000001|           1066500.0|    96954.54545454546|                  0.0|                   0.0|           1066500.0|             213300.0|                  70.0|                   14.0|                       0.0|                        0.0|             8|                 1|                  2|                   3|                   6|                  2|                   1|                         0|                       10|Professional/Tech...|\n",
      "|     0|          F|           N|              Y|           0|             Married|            2.0|        180000.0|       225000.0|             Unknown|    -19593|             Working|       -11475| 0.5844997226729006|Secondary / secon...|                         0|                   2|264741.38999999996|20364.722307692304|           4435771.5|   233461.65789473685|              25398.0|                8466.0|           4435771.5|           369647.625|                 408.0|     31.384615384615383|         0.293133042895235|        0.09771101429841167|            15|                 3|                  1|                   9|                   6|                  4|                   1|                         0|                       18|    Other occupation|\n",
      "|     0|          F|           Y|              Y|           1|           Separated|            2.0|        202500.0|        85500.0|      Medicine staff|    -18105|             Working|        -9119| 0.7537045785403975|Secondary / secon...|                         0|                   2|181453.09500000003|         20161.455|           1187311.5|            118731.15|              90225.0|              22556.25|           1187311.5|   169615.92857142858|                  68.0|      7.555555555555555|        0.8451922437534989|        0.21129806093837472|             4|                 4|                  2|                   6|                   1|                  3|                   1|                         0|                        9|Professional/Tech...|\n",
      "|     0|          M|           Y|              Y|           0|             Married|            2.0|        225000.0|       121500.0|            Laborers|    -17139|Commercial associate|        -8174| 0.4856825322525562|Secondary / secon...|                         0|                   2|        215539.965|      26942.495625|           3041896.5|          380237.0625|              91638.0|               18327.6|           3041896.5|          380237.0625|                 134.0|                  16.75|        0.9585851789926785|         0.1917170357985357|             3|                 5|                  0|                   8|                   0|                  0|                   0|                         0|                        8|    Other occupation|\n",
      "|     0|          F|           N|              Y|           0|             Married|            2.0|         76500.0|       315000.0|          Core staff|    -15755|       State servant|        -8828| 0.7264314507380799|Secondary / secon...|                         0|                   2|           21285.0|            7095.0|            352282.5|            88070.625|              45000.0|               45000.0|            352282.5|             117427.5|                  42.0|                   14.0|        0.5800132657458106|         0.5800132657458106|             2|                 1|                  1|                   3|                   1|                  0|                   0|                         2|                        2|Management & Admi...|\n",
      "|     0|          M|           Y|              Y|           0|             Married|            2.0|        135000.0|      1147500.0|            Managers|    -18384|Commercial associate|        -8627| 0.7359339516488991|    Higher education|                         0|                   3|         172501.11|         86250.555|           1661265.0|             830632.5|                  0.0|                   0.0|           1661265.0|             830632.5|                  24.0|                   12.0|                       0.0|                        0.0|             1|                 1|                  0|                   2|                   0|                  0|                   1|                         0|                        1|Management & Admi...|\n",
      "|     0|          F|           Y|              N|           0|             Married|            2.0|        157500.0|       679500.0|High skill tech s...|    -18300|             Working|        -7398| 0.5582645723315799|Secondary / secon...|                         0|                   2|        408200.625|        29157.1875|           9238981.5|             342184.5|              26343.0|              3292.875|           9238981.5|             615932.1|                 238.0|                   17.0|        0.3098814327696576|         0.0387351790962072|            11|                 8|                  8|                   7|                  12|                  8|                   1|                         0|                       26|Professional/Tech...|\n",
      "|     1|          F|           N|              Y|           0|           Separated|            1.0|        135000.0|       468000.0|         Sales staff|    -20030|             Working|        -7918| 0.3572719307006981|Secondary / secon...|                         0|                   2|          96099.93| 9609.992999999999|           2844000.0|             158000.0|                  0.0|                   0.0|           2844000.0|             284400.0|                 440.0|                   44.0|                       0.0|                        0.0|            17|                 0|                  1|                   3|                   8|                  7|                   0|                         3|                       15|     Service & Sales|\n",
      "|     0|          F|           N|              Y|           0|             Married|            2.0|        153000.0|      1350000.0|         Accountants|    -17439|       State servant|       -10672| 0.4896108105440909|    Higher education|                         0|                   2|189303.65999999997|31550.609999999997|           7384500.0|            1230750.0|                  0.0|                   0.0|           7384500.0|            1230750.0|                 360.0|                   60.0|                       0.0|                        0.0|             6|                 0|                  0|                   0|                   1|                  5|                   0|                         6|                        0|Professional/Tech...|\n",
      "|     0|          F|           N|              Y|           0|               Widow|            1.0|        180000.0|       234000.0|            Laborers|    -21628|             Working|       -14225| 0.6425306482183333|Secondary / secon...|                         0|                   2|          20461.23|          20461.23|            633240.0|             633240.0|             126648.0|              126648.0|            633240.0|             633240.0|                  36.0|                   36.0|        0.2178181818181818|         0.2178181818181818|             0|                 1|                  0|                   1|                   0|                  0|                   0|                         0|                        1|    Other occupation|\n",
      "+------+-----------+------------+---------------+------------+--------------------+---------------+----------------+---------------+--------------------+----------+--------------------+-------------+-------------------+--------------------+--------------------------+--------------------+------------------+------------------+--------------------+---------------------+---------------------+----------------------+--------------------+---------------------+----------------------+-----------------------+--------------------------+---------------------------+--------------+------------------+-------------------+--------------------+--------------------+-------------------+--------------------+--------------------------+-------------------------+--------------------+\n",
      "only showing top 20 rows\n",
      "\n"
     ]
    },
    {
     "name": "stderr",
     "output_type": "stream",
     "text": [
      "                                                                                \r"
     ]
    }
   ],
   "source": [
    "percentile = df_train_selected.approxQuantile(\n",
    "    [\"DAYS_EMPLOYED\"],\n",
    "    [0.25, 0.75],0.01)\n",
    "\n",
    "Q1 = percentile[0][0]\n",
    "Q3 = percentile[0][1]\n",
    "\n",
    "IQR = Q3 - Q1\n",
    "from pyspark.sql.functions import col\n",
    "\n",
    "df_outliers = df_train_selected.filter(\n",
    "    (col(\"DAYS_EMPLOYED\") < (Q1 - 1.5 * IQR)) |\n",
    "    (col(\"DAYS_EMPLOYED\") > (Q3 + 1.5 * IQR))\n",
    ")\n",
    "\n",
    "\n",
    "df_outliers.show()"
   ]
  },
  {
   "cell_type": "code",
   "execution_count": 45,
   "id": "e323d6a5-213b-4aba-8efb-78d2df231a0f",
   "metadata": {},
   "outputs": [
    {
     "name": "stderr",
     "output_type": "stream",
     "text": [
      "                                                                                \r"
     ]
    },
    {
     "data": {
      "image/png": "[encoded data removed]",
      "text/plain": [
       "<Figure size 800x600 with 1 Axes>"
      ]
     },
     "metadata": {},
     "output_type": "display_data"
    }
   ],
   "source": [
    "import matplotlib.pyplot as plt\n",
    "import pyspark.sql.functions as F\n",
    "pandas_series = df_train_selected.select('DAYS_EMPLOYED').toPandas()['DAYS_EMPLOYED']\n",
    "\n",
    "plt.figure(figsize=(8,6))\n",
    "plt.boxplot(pandas_series, vert=False)\n",
    "plt.title('Biểu đồ hộp và râu của DAYS_EMPLOYED')\n",
    "plt.xlabel('Giá trị')\n",
    "plt.ylabel('DAYS_EMPLOYED')\n",
    "plt.grid(True)\n",
    "plt.show()"
   ]
  },
  {
   "cell_type": "code",
   "execution_count": 46,
   "id": "f0d502c3-8135-4040-adf3-124c4c025858",
   "metadata": {},
   "outputs": [
    {
     "name": "stderr",
     "output_type": "stream",
     "text": [
      "                                                                                \r"
     ]
    },
    {
     "data": {
      "text/plain": [
       "264668"
      ]
     },
     "execution_count": 46,
     "metadata": {},
     "output_type": "execute_result"
    }
   ],
   "source": [
    "df_train_selected.count()"
   ]
  },
  {
   "cell_type": "code",
   "execution_count": 47,
   "id": "ad42140f-d439-407a-bd7c-144f6bfa1875",
   "metadata": {},
   "outputs": [
    {
     "name": "stderr",
     "output_type": "stream",
     "text": [
      "                                                                                \r"
     ]
    },
    {
     "data": {
      "text/plain": [
       "251669"
      ]
     },
     "execution_count": 47,
     "metadata": {},
     "output_type": "execute_result"
    }
   ],
   "source": [
    "columns = ['CNT_CHILDREN', 'CNT_FAM_MEMBERS', 'AMT_INCOME_TOTAL', 'AMT_GOODS_PRICE']\n",
    "quantiles = {col: df_train_selected.approxQuantile(col, [0.25, 0.75], 0.05) for col in columns}\n",
    "for col in columns:\n",
    "    q25, q75 = quantiles[col]\n",
    "    iqr = q75 - q25\n",
    "    lower_bound = q25 - 1.5 * iqr\n",
    "    upper_bound = q75 + 1.5 * iqr\n",
    "    df_train_selected1 = df_train_selected.filter((F.col(col) >= lower_bound) & (F.col(col) <= upper_bound))\n",
    "\n",
    "df_train_selected1.count()\n"
   ]
  },
  {
   "cell_type": "markdown",
   "id": "2424d53b-a6eb-4cd1-ae71-bd811e850bf1",
   "metadata": {},
   "source": [
    "Tạo cột AGE từ DAYS_BIRTH"
   ]
  },
  {
   "cell_type": "code",
   "execution_count": 48,
   "id": "eae73280-04b0-4b8d-a943-916b466a602b",
   "metadata": {},
   "outputs": [
    {
     "name": "stderr",
     "output_type": "stream",
     "text": [
      "[Stage 219:===================================>                     (5 + 3) / 8]\r"
     ]
    },
    {
     "name": "stdout",
     "output_type": "stream",
     "text": [
      "+------+-----------+------------+---------------+------------+--------------------+---------------+----------------+---------------+--------------------+----------+--------------------+-------------+-------------------+--------------------+--------------------------+--------------------+------------------+------------------+--------------------+---------------------+---------------------+----------------------+--------------------+---------------------+----------------------+-----------------------+--------------------------+---------------------------+--------------+------------------+-------------------+--------------------+--------------------+-------------------+--------------------+--------------------------+-------------------------+--------------------+---+\n",
      "|TARGET|CODE_GENDER|FLAG_OWN_CAR|FLAG_OWN_REALTY|CNT_CHILDREN|  NAME_FAMILY_STATUS|CNT_FAM_MEMBERS|AMT_INCOME_TOTAL|AMT_GOODS_PRICE|     OCCUPATION_TYPE|DAYS_BIRTH|    NAME_INCOME_TYPE|DAYS_EMPLOYED|       EXT_SOURCE_2| NAME_EDUCATION_TYPE|REG_REGION_NOT_LIVE_REGION|REGION_RATING_CLIENT|  PREV_ANNUITY_SUM| PREV_ANNUITY_MEAN|PREV_APPLICATION_SUM|PREV_APPLICATION_MEAN|PREV_DOWN_PAYMENT_SUM|PREV_DOWN_PAYMENT_MEAN|PREV_GOODS_PRICE_SUM|PREV_GOODS_PRICE_MEAN|PREV_PAYMENT_COUNT_SUM|PREV_PAYMENT_COUNT_MEAN|PREV_RATE_DOWN_PAYMENT_SUM|PREV_RATE_DOWN_PAYMENT_MEAN|PREV_TYPE_CASH|PREV_TYPE_CONSUMER|PREV_TYPE_REVOLVING|PREV_STATUS_APPROVED|PREV_STATUS_CANCELED|PREV_STATUS_REFUSED|PREV_CLIENT_TYPE_NEW|PREV_CLIENT_TYPE_REFRESHED|PREV_CLIENT_TYPE_REPEATER|           job_group|AGE|\n",
      "+------+-----------+------------+---------------+------------+--------------------+---------------+----------------+---------------+--------------------+----------+--------------------+-------------+-------------------+--------------------+--------------------------+--------------------+------------------+------------------+--------------------+---------------------+---------------------+----------------------+--------------------+---------------------+----------------------+-----------------------+--------------------------+---------------------------+--------------+------------------+-------------------+--------------------+--------------------+-------------------+--------------------+--------------------------+-------------------------+--------------------+---+\n",
      "|     0|          F|           N|              N|           0|             Married|            2.0|        270000.0|      1129500.0|          Core staff|    -16765|       State servant|        -1188| 0.6222457752555098|    Higher education|                         0|                   1|         169661.97|          56553.99|           1306309.5|             435436.5|               6885.0|                3442.5|           1306309.5|             435436.5|                  30.0|                   10.0|       0.10006059514256237|        0.05003029757128118|             1|                 2|                  0|                   3|                   0|                  0|                   0|                         2|                        1|Management & Admi...| 45|\n",
      "|     0|          M|           N|              Y|           0|Single / not married|            1.0|        121500.0|       513000.0|          Core staff|    -19932|             Working|        -3038| 0.3227382869704046|Secondary / secon...|                         0|                   2|          73672.83|         12278.805|            903181.5|            150530.25|               6781.5|               3390.75|            903181.5|            150530.25|                 124.0|     20.666666666666668|        0.3190328120503534|         0.1595164060251767|             4|                 2|                  0|                   6|                   0|                  0|                   1|                         0|                        5|Management & Admi...| 54|\n",
      "|     0|          M|           N|              N|           0|             Married|            2.0|        108000.0|       387000.0|             Drivers|    -12931|             Working|        -1317| 0.2363778398884225|Secondary / secon...|                         0|                   2|         14509.035|         7254.5175|             78412.5|             39206.25|                  0.0|                   0.0|             78412.5|             39206.25|                  14.0|                    7.0|                       0.0|                        0.0|             0|                 2|                  0|                   2|                   0|                  0|                   1|                         0|                        1|     Service & Sales| 35|\n",
      "|     0|          F|           N|              Y|           0|      Civil marriage|            2.0|        292500.0|       477000.0|             Unknown|    -15280|Commercial associate|        -2668|  0.479987342189869|Secondary / secon...|                         0|                   2|189857.52000000002|         18985.752|           3429022.5|    155864.6590909091|              14053.5|                4684.5|           3429022.5|            342902.25|                 226.0|                   22.6|       0.18851265457141925|        0.06283755152380642|            19|                 3|                  0|                   8|                   6|                  8|                   1|                         0|                       21|    Other occupation| 41|\n",
      "|     0|          F|           N|              Y|           0|             Married|            2.0|        180000.0|       666000.0|            Managers|    -12955|             Working|        -4106| 0.6166372926426479|    Higher education|                         0|                   2|143528.71500000003|20504.102142857148|           1537078.5|             170786.5|              31135.5|              15567.75|           1537078.5|   219582.64285714287|                 150.0|     21.428571428571427|          0.20086418765827|          0.100432093829135|             6|                 2|                  1|                   4|                   2|                  3|                   1|                         0|                        8|Management & Admi...| 35|\n",
      "|     0|          M|           Y|              N|           0|      Civil marriage|            2.0|        180000.0|       450000.0|            Laborers|    -10848|Commercial associate|         -121| 0.6454384930609306|Secondary / secon...|                         0|                   2|           6075.63|           6075.63|             46755.0|              46755.0|               4680.0|                4680.0|             46755.0|              46755.0|                  10.0|                   10.0|       0.10148324930154516|        0.10148324930154516|             0|                 1|                  0|                   1|                   0|                  0|                   1|                         0|                        0|    Other occupation| 29|\n",
      "|     0|          F|           Y|              Y|           0|Single / not married|            1.0|        202500.0|       283500.0|High skill tech s...|    -18138|       State servant|         -969| 0.7162122102538987|    Higher education|                         0|                   1|         82248.255|       20562.06375|            891216.0|             178243.2|                  0.0|                   0.0|            891216.0|             222804.0|                  30.0|                    7.5|                       0.0|                        0.0|             3|                 1|                  1|                   4|                   1|                  0|                   1|                         0|                        4|Professional/Tech...| 49|\n",
      "|     0|          F|           N|              Y|           3|             Married|            5.0|        171000.0|       450000.0|         Sales staff|    -12780|             Working|        -1415| 0.7566679797246073|Secondary / secon...|                         0|                   2|          25269.66|          25269.66|            125955.0|             125955.0|              22500.0|               22500.0|            125955.0|             125955.0|                   6.0|                    6.0|        0.1685377451394164|         0.1685377451394164|             0|                 1|                  0|                   1|                   0|                  0|                   1|                         0|                        0|     Service & Sales| 35|\n",
      "|     0|          M|           Y|              Y|           3|             Married|            5.0|        135000.0|       337500.0|            Laborers|    -10744|Commercial associate|         -741| 0.6405493008893001|Secondary / secon...|                         0|                   2|          27615.51|         6903.8775|            273771.0|             68442.75|              13621.5|                4540.5|            273771.0|             68442.75|                  42.0|                   10.5|         0.086345683127768|       0.028781894375922667|             0|                 3|                  1|                   4|                   0|                  0|                   1|                         0|                        3|    Other occupation| 29|\n",
      "|     1|          M|           Y|              Y|           0|Single / not married|            1.0|        315000.0|       900000.0|             Unknown|    -10199|Commercial associate|        -2015| 0.4323402118056743|   Incomplete higher|                         0|                   2|          49047.21|        12261.8025|            316957.5|            79239.375|              42484.5|               14161.5|            316957.5|             105652.5|                  28.0|                    7.0|        0.5909299604725011|         0.1969766534908337|             0|                 3|                  1|                   4|                   0|                  0|                   1|                         2|                        1|    Other occupation| 27|\n",
      "|     0|          M|           Y|              N|           0|Single / not married|            1.0|         76500.0|       135000.0|  Low-skill Laborers|    -15137|             Working|        -7980| 0.5930185238421518|Secondary / secon...|                         0|                   2|           20290.5|          5072.625|            208210.5|            52052.625|               2700.0|                1350.0|            208210.5|            52052.625|                  30.0|                    7.5|        0.1091091243036476|         0.0545545621518238|             1|                 2|                  1|                   2|                   0|                  2|                   1|                         2|                        1|    Other occupation| 41|\n",
      "|     0|          F|           N|              N|           1|             Married|            3.0|         76500.0|       675000.0|          Core staff|    -10954|Commercial associate|        -2469|0.04729142440452983|    Higher education|                         0|                   2|         199336.32|          49834.08|           4635000.0|            1158750.0|                  0.0|                   0.0|           4635000.0|            1158750.0|                 132.0|                   33.0|                       0.0|                        0.0|             4|                 0|                  0|                   2|                   0|                  2|                   0|                         0|                        4|Management & Admi...| 30|\n",
      "|     0|          M|           Y|              N|           0|             Married|            2.0|        171000.0|       445500.0|  Low-skill Laborers|     -9203|             Working|         -481|0.16446313944142296|Secondary / secon...|                         0|                   2|          7672.005|          7672.005|             55741.5|              55741.5|                  0.0|                   0.0|             55741.5|              55741.5|                  12.0|                   12.0|                       0.0|                        0.0|             0|                 1|                  0|                   1|                   0|                  0|                   1|                         0|                        0|    Other occupation| 25|\n",
      "|     0|          F|           N|              Y|           0|             Married|            2.0|         90000.0|       306000.0|         Sales staff|    -16219|Commercial associate|        -2599| 0.2653117484731741|Secondary / secon...|                         0|                   2|         12610.035|         12610.035|             65925.0|              65925.0|                  0.0|                   0.0|             65925.0|              65925.0|                   6.0|                    6.0|                       0.0|                        0.0|             0|                 1|                  0|                   1|                   0|                  0|                   1|                         0|                        0|     Service & Sales| 44|\n",
      "|     0|          F|           N|              N|           0|Single / not married|            1.0|        117000.0|       675000.0|          Core staff|    -11633|             Working|        -2596| 0.6363951652298555|    Higher education|                         0|                   2|         14780.565|4926.8550000000005|             91890.0|              30630.0|              10669.5|               5334.75|             91890.0|              45945.0|                  16.0|      5.333333333333333|       0.31439794168096047|        0.15719897084048023|             0|                 2|                  1|                   3|                   0|                  0|                   0|                         0|                        3|Management & Admi...| 31|\n",
      "|     0|          F|           N|              Y|           0|           Separated|            1.0|        119250.0|       679500.0|             Unknown|    -19286|             Working|        -1485| 0.7651254360605889|    Higher education|                         0|                   2|         63757.845|         12751.569|           1167750.0|             233550.0|              16065.0|                8032.5|           1167750.0|             233550.0|                  30.0|                    6.0|        0.3267272727272727|        0.16336363636363635|             0|                 2|                  3|                   2|                   0|                  3|                   1|                         4|                        0|    Other occupation| 52|\n",
      "|     0|          M|           Y|              N|           1|             Married|            3.0|        157500.0|       252000.0|             Drivers|    -12027|Commercial associate|        -1720|0.16425890585653596|Secondary / secon...|                         0|                   2|        156746.295|13062.191250000002|           3526663.5|           293888.625|              57537.0|                6393.0|           3526663.5|           293888.625|                 244.0|     20.333333333333332|        0.7309939325783167|        0.08122154806425741|             2|                 9|                  1|                   5|                   0|                  7|                   1|                         1|                       10|     Service & Sales| 32|\n",
      "|     0|          F|           N|              Y|           0|Single / not married|            1.0|        225000.0|       909000.0|         Sales staff|    -14823|Commercial associate|         -185| 0.6263387445759298|    Higher education|                         0|                   2| 64226.83500000001|16056.708750000002|            514620.0|              85770.0|              26415.0|               6603.75|            514620.0|             128655.0|                  24.0|                    6.0|       0.15183022933462306|       0.037957557333655766|             1|                 4|                  1|                   4|                   1|                  0|                   1|                         0|                        5|     Service & Sales| 40|\n",
      "|     0|          M|           Y|              N|           2|             Married|            4.0|        157500.0|       720000.0|         Sales staff|    -14144|Commercial associate|        -4516| 0.7221783702089665|Secondary / secon...|                         0|                   2|          22016.61|           7338.87|            301626.0|              60325.2|               7060.5|              1765.125|            301626.0|              60325.2|                  32.0|     10.666666666666666|       0.15962438935888562|       0.039906097339721405|             1|                 4|                  0|                   3|                   0|                  0|                   0|                         0|                        5|     Service & Sales| 38|\n",
      "|     0|          M|           N|              Y|           2|             Married|            4.0|        135000.0|       477000.0|            Laborers|    -11978|             Working|        -3947|  0.628531689899611|Secondary / secon...|                         0|                   3| 64502.41499999999|12900.482999999998|            853830.0|   121975.71428571429|               2902.5|               1451.25|            853830.0|             170766.0|                  96.0|                   19.2|        0.1042695022062693|        0.05213475110313465|             3|                 2|                  2|                   4|                   2|                  1|                   1|                         1|                        5|    Other occupation| 32|\n",
      "+------+-----------+------------+---------------+------------+--------------------+---------------+----------------+---------------+--------------------+----------+--------------------+-------------+-------------------+--------------------+--------------------------+--------------------+------------------+------------------+--------------------+---------------------+---------------------+----------------------+--------------------+---------------------+----------------------+-----------------------+--------------------------+---------------------------+--------------+------------------+-------------------+--------------------+--------------------+-------------------+--------------------+--------------------------+-------------------------+--------------------+---+\n",
      "only showing top 20 rows\n",
      "\n"
     ]
    },
    {
     "name": "stderr",
     "output_type": "stream",
     "text": [
      "                                                                                \r"
     ]
    }
   ],
   "source": [
    "df_train_selected = df_train_selected.withColumn(\n",
    "    'AGE', \n",
    "    (F.col('DAYS_BIRTH') * -1 / 365).cast('int')\n",
    ")\n",
    "\n",
    "df_train_selected.show()"
   ]
  },
  {
   "cell_type": "markdown",
   "id": "3c96c64b-8a44-455c-b645-8fb90cc99d21",
   "metadata": {},
   "source": [
    "# Trực quan hóa dữ liệu"
   ]
  },
  {
   "cell_type": "code",
   "execution_count": 34,
   "id": "aa97c80f-00c8-49be-924d-266902919e32",
   "metadata": {},
   "outputs": [
    {
     "name": "stderr",
     "output_type": "stream",
     "text": [
      "/opt/anaconda3/lib/python3.11/site-packages/seaborn/_oldcore.py:1119: FutureWarning: use_inf_as_na option is deprecated and will be removed in a future version. Convert inf values to NaN before operating instead.\n",
      "  with pd.option_context('mode.use_inf_as_na', True):\n"
     ]
    },
    {
     "data": {
      "image/png": "[encoded data removed]",
      "text/plain": [
       "<Figure size 1000x600 with 1 Axes>"
      ]
     },
     "metadata": {},
     "output_type": "display_data"
    }
   ],
   "source": [
    "import matplotlib.pyplot as plt\n",
    "import seaborn as sns\n",
    "df_age = df_train_selected.select('AGE').toPandas()\n",
    "plt.figure(figsize=(10, 6))\n",
    "\n",
    "sns.histplot(df_age['AGE'], bins=range(int(df_age['AGE'].min()), int(df_age['AGE'].max()) + 1), edgecolor='k', kde=False)\n",
    "\n",
    "plt.title('Distribution of AGE')\n",
    "plt.xlabel('Age')\n",
    "plt.ylabel('Frequency')\n",
    "\n",
    "plt.show()"
   ]
  },
  {
   "cell_type": "markdown",
   "id": "5905faa5-b0b2-43fe-b751-249961ac25a3",
   "metadata": {},
   "source": [
    "Lọc dữ liệu của khách hàng có độ tuổi từ 28 đến 65 tuổi"
   ]
  },
  {
   "cell_type": "code",
   "execution_count": 49,
   "id": "75cda101-7ab6-4e4c-b8a5-24106f1a5e93",
   "metadata": {},
   "outputs": [],
   "source": [
    "df_filtered = df_train_selected.filter((df_train_selected.AGE >= 28) & (df_train_selected.AGE <= 65))\n",
    "\n",
    "df_train_selected = df_filtered"
   ]
  },
  {
   "cell_type": "code",
   "execution_count": 56,
   "id": "98668b04-e877-4911-952c-0e3bfee06f01",
   "metadata": {},
   "outputs": [
    {
     "name": "stderr",
     "output_type": "stream",
     "text": [
      "                                                                                \r"
     ]
    },
    {
     "data": {
      "text/plain": [
       "236474"
      ]
     },
     "execution_count": 56,
     "metadata": {},
     "output_type": "execute_result"
    }
   ],
   "source": [
    "df_train_selected = df_train_selected.filter(df_train_selected['DAYS_EMPLOYED'] >= -17155)\n",
    "\n",
    "df_train_selected.count()"
   ]
  },
  {
   "cell_type": "code",
   "execution_count": 57,
   "id": "f1b2d544-c28c-4234-a2d8-3755b65a2297",
   "metadata": {},
   "outputs": [],
   "source": [
    "df_train_cleaned_copy = df_train_selected.select('*')"
   ]
  },
  {
   "cell_type": "markdown",
   "id": "9eb62c48-9c39-4a84-93e9-1145ca349f04",
   "metadata": {},
   "source": [
    "# Chuẩn hóa dữ liệu"
   ]
  },
  {
   "cell_type": "code",
   "execution_count": 58,
   "id": "c505be1f-9c55-4b8f-8ca5-061ec9b64c7c",
   "metadata": {},
   "outputs": [
    {
     "name": "stderr",
     "output_type": "stream",
     "text": [
      "                                                                                \r"
     ]
    },
    {
     "name": "stdout",
     "output_type": "stream",
     "text": [
      "+-----------+\n",
      "|CODE_GENDER|\n",
      "+-----------+\n",
      "|          F|\n",
      "|          M|\n",
      "+-----------+\n",
      "\n"
     ]
    }
   ],
   "source": [
    "df_train_cleaned_copy.select('CODE_GENDER').distinct().show()"
   ]
  },
  {
   "cell_type": "code",
   "execution_count": 59,
   "id": "8c4fb5b0-1630-4fa2-b0e8-3e5e4b2203c7",
   "metadata": {},
   "outputs": [
    {
     "name": "stderr",
     "output_type": "stream",
     "text": [
      "                                                                                \r"
     ]
    }
   ],
   "source": [
    "indexer1 = StringIndexer(inputCol=\"CODE_GENDER\", outputCol=\"CODE_GENDER_INDEX\")\n",
    "df_indexed = indexer1.fit(df_train_cleaned_copy).transform(df_train_cleaned_copy)"
   ]
  },
  {
   "cell_type": "code",
   "execution_count": 60,
   "id": "008909ce-0b0c-492b-8d41-beeae8d239d6",
   "metadata": {},
   "outputs": [
    {
     "name": "stderr",
     "output_type": "stream",
     "text": [
      "                                                                                \r"
     ]
    },
    {
     "name": "stdout",
     "output_type": "stream",
     "text": [
      "+------------+\n",
      "|FLAG_OWN_CAR|\n",
      "+------------+\n",
      "|           Y|\n",
      "|           N|\n",
      "+------------+\n",
      "\n"
     ]
    }
   ],
   "source": [
    "df_indexed.select('FLAG_OWN_CAR').distinct().show()"
   ]
  },
  {
   "cell_type": "code",
   "execution_count": 61,
   "id": "8dd1cbe2-a2c3-48ee-ab3c-6371e8b7e51a",
   "metadata": {},
   "outputs": [
    {
     "name": "stderr",
     "output_type": "stream",
     "text": [
      "                                                                                \r"
     ]
    },
    {
     "name": "stdout",
     "output_type": "stream",
     "text": [
      "+------------------+\n",
      "|FLAG_OWN_CAR_INDEX|\n",
      "+------------------+\n",
      "|               0.0|\n",
      "|               1.0|\n",
      "+------------------+\n",
      "\n"
     ]
    }
   ],
   "source": [
    "indexer2 = StringIndexer(inputCol=\"FLAG_OWN_CAR\", outputCol=\"FLAG_OWN_CAR_INDEX\")\n",
    "df_indexed = indexer2.fit(df_indexed).transform(df_indexed)\n",
    "df_indexed.select('FLAG_OWN_CAR_INDEX').distinct().show()"
   ]
  },
  {
   "cell_type": "code",
   "execution_count": 62,
   "id": "1f380a84-afd0-484d-a469-ec1fb93465df",
   "metadata": {},
   "outputs": [
    {
     "name": "stderr",
     "output_type": "stream",
     "text": [
      "                                                                                \r"
     ]
    },
    {
     "name": "stdout",
     "output_type": "stream",
     "text": [
      "+------------------+\n",
      "|FLAG_OWN_CAR_INDEX|\n",
      "+------------------+\n",
      "|               0.0|\n",
      "|               1.0|\n",
      "+------------------+\n",
      "\n"
     ]
    }
   ],
   "source": [
    "df_indexed.select('FLAG_OWN_CAR_INDEX').distinct().show()"
   ]
  },
  {
   "cell_type": "code",
   "execution_count": 63,
   "id": "765fef6e-a874-466a-a394-e0535615362d",
   "metadata": {},
   "outputs": [
    {
     "name": "stderr",
     "output_type": "stream",
     "text": [
      "                                                                                \r"
     ]
    },
    {
     "name": "stdout",
     "output_type": "stream",
     "text": [
      "+---------------+\n",
      "|FLAG_OWN_REALTY|\n",
      "+---------------+\n",
      "|              Y|\n",
      "|              N|\n",
      "+---------------+\n",
      "\n"
     ]
    }
   ],
   "source": [
    "df_indexed.select('FLAG_OWN_REALTY').distinct().show()"
   ]
  },
  {
   "cell_type": "code",
   "execution_count": 64,
   "id": "b978d9e9-f3e2-497b-9ccd-1f633f570290",
   "metadata": {},
   "outputs": [
    {
     "name": "stderr",
     "output_type": "stream",
     "text": [
      "                                                                                \r"
     ]
    },
    {
     "name": "stdout",
     "output_type": "stream",
     "text": [
      "+---------------------+\n",
      "|FLAG_OWN_REALTY_INDEX|\n",
      "+---------------------+\n",
      "|                  0.0|\n",
      "|                  1.0|\n",
      "+---------------------+\n",
      "\n"
     ]
    }
   ],
   "source": [
    "indexer3 = StringIndexer(inputCol=\"FLAG_OWN_REALTY\", outputCol=\"FLAG_OWN_REALTY_INDEX\")\n",
    "df_indexed = indexer3.fit(df_indexed).transform(df_indexed)\n",
    "df_indexed.select('FLAG_OWN_REALTY_INDEX').distinct().show()"
   ]
  },
  {
   "cell_type": "code",
   "execution_count": 65,
   "id": "2fde9d2e-c7e2-4f34-9def-4a3ad4d77ea0",
   "metadata": {},
   "outputs": [
    {
     "name": "stderr",
     "output_type": "stream",
     "text": [
      "[Stage 338:=============================================>           (4 + 1) / 5]\r"
     ]
    },
    {
     "name": "stdout",
     "output_type": "stream",
     "text": [
      "+--------------------+\n",
      "|           job_group|\n",
      "+--------------------+\n",
      "|     Service & Sales|\n",
      "|    Other occupation|\n",
      "|Professional/Tech...|\n",
      "|Management & Admi...|\n",
      "+--------------------+\n",
      "\n"
     ]
    },
    {
     "name": "stderr",
     "output_type": "stream",
     "text": [
      "                                                                                \r"
     ]
    }
   ],
   "source": [
    "df_indexed.select('job_group').distinct().show()"
   ]
  },
  {
   "cell_type": "code",
   "execution_count": 66,
   "id": "284e2260-3752-4ee2-8c24-01de1a4b0554",
   "metadata": {},
   "outputs": [
    {
     "name": "stderr",
     "output_type": "stream",
     "text": [
      "                                                                                \r"
     ]
    },
    {
     "name": "stdout",
     "output_type": "stream",
     "text": [
      "+---------------+\n",
      "|job_group_index|\n",
      "+---------------+\n",
      "|            0.0|\n",
      "|            1.0|\n",
      "|            3.0|\n",
      "|            2.0|\n",
      "+---------------+\n",
      "\n"
     ]
    }
   ],
   "source": [
    "indexer4 = StringIndexer(inputCol=\"job_group\", outputCol=\"job_group_index\")\n",
    "df_indexed = indexer4.fit(df_indexed).transform(df_indexed)\n",
    "df_indexed.select('job_group_index').distinct().show()"
   ]
  },
  {
   "cell_type": "code",
   "execution_count": 67,
   "id": "e5563402-7172-47a2-bdfb-5f9c2c056fdf",
   "metadata": {},
   "outputs": [
    {
     "name": "stderr",
     "output_type": "stream",
     "text": [
      "                                                                                \r"
     ]
    },
    {
     "name": "stdout",
     "output_type": "stream",
     "text": [
      "+--------------------+\n",
      "|  NAME_FAMILY_STATUS|\n",
      "+--------------------+\n",
      "|           Separated|\n",
      "|             Married|\n",
      "|Single / not married|\n",
      "|               Widow|\n",
      "|      Civil marriage|\n",
      "+--------------------+\n",
      "\n"
     ]
    }
   ],
   "source": [
    "df_indexed.select('NAME_FAMILY_STATUS').distinct().show()"
   ]
  },
  {
   "cell_type": "code",
   "execution_count": 68,
   "id": "11d99f27-8d4f-4a36-8bbd-877e46ac8bd1",
   "metadata": {},
   "outputs": [
    {
     "name": "stderr",
     "output_type": "stream",
     "text": [
      "                                                                                \r"
     ]
    },
    {
     "name": "stdout",
     "output_type": "stream",
     "text": [
      "+------------------------+\n",
      "|NAME_FAMILY_STATUS_INDEX|\n",
      "+------------------------+\n",
      "|                     0.0|\n",
      "|                     1.0|\n",
      "|                     4.0|\n",
      "|                     3.0|\n",
      "|                     2.0|\n",
      "+------------------------+\n",
      "\n"
     ]
    }
   ],
   "source": [
    "indexer5 = StringIndexer(inputCol=\"NAME_FAMILY_STATUS\", outputCol=\"NAME_FAMILY_STATUS_INDEX\")\n",
    "df_indexed = indexer5.fit(df_indexed).transform(df_indexed)\n",
    "df_indexed.select('NAME_FAMILY_STATUS_INDEX').distinct().show()"
   ]
  },
  {
   "cell_type": "code",
   "execution_count": 69,
   "id": "cbd7c180-77ed-4f84-b3bb-3e5253c021af",
   "metadata": {},
   "outputs": [
    {
     "name": "stderr",
     "output_type": "stream",
     "text": [
      "[Stage 381:>                                                        (0 + 1) / 1]\r"
     ]
    },
    {
     "name": "stdout",
     "output_type": "stream",
     "text": [
      "+------+-----------+------------+---------------+------------+--------------------+---------------+----------------+---------------+--------------------+----------+--------------------+-------------+-------------------+--------------------+--------------------------+--------------------+------------------+------------------+--------------------+---------------------+---------------------+----------------------+--------------------+---------------------+----------------------+-----------------------+--------------------------+---------------------------+--------------+------------------+-------------------+--------------------+--------------------+-------------------+--------------------+--------------------------+-------------------------+--------------------+---+-----------------+------------------+---------------------+---------------+------------------------+\n",
      "|TARGET|CODE_GENDER|FLAG_OWN_CAR|FLAG_OWN_REALTY|CNT_CHILDREN|  NAME_FAMILY_STATUS|CNT_FAM_MEMBERS|AMT_INCOME_TOTAL|AMT_GOODS_PRICE|     OCCUPATION_TYPE|DAYS_BIRTH|    NAME_INCOME_TYPE|DAYS_EMPLOYED|       EXT_SOURCE_2| NAME_EDUCATION_TYPE|REG_REGION_NOT_LIVE_REGION|REGION_RATING_CLIENT|  PREV_ANNUITY_SUM| PREV_ANNUITY_MEAN|PREV_APPLICATION_SUM|PREV_APPLICATION_MEAN|PREV_DOWN_PAYMENT_SUM|PREV_DOWN_PAYMENT_MEAN|PREV_GOODS_PRICE_SUM|PREV_GOODS_PRICE_MEAN|PREV_PAYMENT_COUNT_SUM|PREV_PAYMENT_COUNT_MEAN|PREV_RATE_DOWN_PAYMENT_SUM|PREV_RATE_DOWN_PAYMENT_MEAN|PREV_TYPE_CASH|PREV_TYPE_CONSUMER|PREV_TYPE_REVOLVING|PREV_STATUS_APPROVED|PREV_STATUS_CANCELED|PREV_STATUS_REFUSED|PREV_CLIENT_TYPE_NEW|PREV_CLIENT_TYPE_REFRESHED|PREV_CLIENT_TYPE_REPEATER|           job_group|AGE|CODE_GENDER_INDEX|FLAG_OWN_CAR_INDEX|FLAG_OWN_REALTY_INDEX|job_group_index|NAME_FAMILY_STATUS_INDEX|\n",
      "+------+-----------+------------+---------------+------------+--------------------+---------------+----------------+---------------+--------------------+----------+--------------------+-------------+-------------------+--------------------+--------------------------+--------------------+------------------+------------------+--------------------+---------------------+---------------------+----------------------+--------------------+---------------------+----------------------+-----------------------+--------------------------+---------------------------+--------------+------------------+-------------------+--------------------+--------------------+-------------------+--------------------+--------------------------+-------------------------+--------------------+---+-----------------+------------------+---------------------+---------------+------------------------+\n",
      "|     0|          F|           N|              N|           0|             Married|            2.0|        270000.0|      1129500.0|          Core staff|    -16765|       State servant|        -1188| 0.6222457752555098|    Higher education|                         0|                   1|         169661.97|          56553.99|           1306309.5|             435436.5|               6885.0|                3442.5|           1306309.5|             435436.5|                  30.0|                   10.0|       0.10006059514256237|        0.05003029757128118|             1|                 2|                  0|                   3|                   0|                  0|                   0|                         2|                        1|Management & Admi...| 45|              0.0|               0.0|                  1.0|            2.0|                     0.0|\n",
      "|     0|          M|           N|              Y|           0|Single / not married|            1.0|        121500.0|       513000.0|          Core staff|    -19932|             Working|        -3038| 0.3227382869704046|Secondary / secon...|                         0|                   2|          73672.83|         12278.805|            903181.5|            150530.25|               6781.5|               3390.75|            903181.5|            150530.25|                 124.0|     20.666666666666668|        0.3190328120503534|         0.1595164060251767|             4|                 2|                  0|                   6|                   0|                  0|                   1|                         0|                        5|Management & Admi...| 54|              1.0|               0.0|                  0.0|            2.0|                     1.0|\n",
      "|     0|          M|           N|              N|           0|             Married|            2.0|        108000.0|       387000.0|             Drivers|    -12931|             Working|        -1317| 0.2363778398884225|Secondary / secon...|                         0|                   2|         14509.035|         7254.5175|             78412.5|             39206.25|                  0.0|                   0.0|             78412.5|             39206.25|                  14.0|                    7.0|                       0.0|                        0.0|             0|                 2|                  0|                   2|                   0|                  0|                   1|                         0|                        1|     Service & Sales| 35|              1.0|               0.0|                  1.0|            1.0|                     0.0|\n",
      "|     0|          F|           N|              Y|           0|      Civil marriage|            2.0|        292500.0|       477000.0|             Unknown|    -15280|Commercial associate|        -2668|  0.479987342189869|Secondary / secon...|                         0|                   2|189857.52000000002|         18985.752|           3429022.5|    155864.6590909091|              14053.5|                4684.5|           3429022.5|            342902.25|                 226.0|                   22.6|       0.18851265457141925|        0.06283755152380642|            19|                 3|                  0|                   8|                   6|                  8|                   1|                         0|                       21|    Other occupation| 41|              0.0|               0.0|                  0.0|            0.0|                     2.0|\n",
      "|     0|          F|           N|              Y|           0|             Married|            2.0|        180000.0|       666000.0|            Managers|    -12955|             Working|        -4106| 0.6166372926426479|    Higher education|                         0|                   2|143528.71500000003|20504.102142857148|           1537078.5|             170786.5|              31135.5|              15567.75|           1537078.5|   219582.64285714287|                 150.0|     21.428571428571427|          0.20086418765827|          0.100432093829135|             6|                 2|                  1|                   4|                   2|                  3|                   1|                         0|                        8|Management & Admi...| 35|              0.0|               0.0|                  0.0|            2.0|                     0.0|\n",
      "|     0|          M|           Y|              N|           0|      Civil marriage|            2.0|        180000.0|       450000.0|            Laborers|    -10848|Commercial associate|         -121| 0.6454384930609306|Secondary / secon...|                         0|                   2|           6075.63|           6075.63|             46755.0|              46755.0|               4680.0|                4680.0|             46755.0|              46755.0|                  10.0|                   10.0|       0.10148324930154516|        0.10148324930154516|             0|                 1|                  0|                   1|                   0|                  0|                   1|                         0|                        0|    Other occupation| 29|              1.0|               1.0|                  1.0|            0.0|                     2.0|\n",
      "|     0|          F|           Y|              Y|           0|Single / not married|            1.0|        202500.0|       283500.0|High skill tech s...|    -18138|       State servant|         -969| 0.7162122102538987|    Higher education|                         0|                   1|         82248.255|       20562.06375|            891216.0|             178243.2|                  0.0|                   0.0|            891216.0|             222804.0|                  30.0|                    7.5|                       0.0|                        0.0|             3|                 1|                  1|                   4|                   1|                  0|                   1|                         0|                        4|Professional/Tech...| 49|              0.0|               1.0|                  0.0|            3.0|                     1.0|\n",
      "|     0|          F|           N|              Y|           3|             Married|            5.0|        171000.0|       450000.0|         Sales staff|    -12780|             Working|        -1415| 0.7566679797246073|Secondary / secon...|                         0|                   2|          25269.66|          25269.66|            125955.0|             125955.0|              22500.0|               22500.0|            125955.0|             125955.0|                   6.0|                    6.0|        0.1685377451394164|         0.1685377451394164|             0|                 1|                  0|                   1|                   0|                  0|                   1|                         0|                        0|     Service & Sales| 35|              0.0|               0.0|                  0.0|            1.0|                     0.0|\n",
      "|     0|          M|           Y|              Y|           3|             Married|            5.0|        135000.0|       337500.0|            Laborers|    -10744|Commercial associate|         -741| 0.6405493008893001|Secondary / secon...|                         0|                   2|          27615.51|         6903.8775|            273771.0|             68442.75|              13621.5|                4540.5|            273771.0|             68442.75|                  42.0|                   10.5|         0.086345683127768|       0.028781894375922667|             0|                 3|                  1|                   4|                   0|                  0|                   1|                         0|                        3|    Other occupation| 29|              1.0|               1.0|                  0.0|            0.0|                     0.0|\n",
      "|     0|          M|           Y|              N|           0|Single / not married|            1.0|         76500.0|       135000.0|  Low-skill Laborers|    -15137|             Working|        -7980| 0.5930185238421518|Secondary / secon...|                         0|                   2|           20290.5|          5072.625|            208210.5|            52052.625|               2700.0|                1350.0|            208210.5|            52052.625|                  30.0|                    7.5|        0.1091091243036476|         0.0545545621518238|             1|                 2|                  1|                   2|                   0|                  2|                   1|                         2|                        1|    Other occupation| 41|              1.0|               1.0|                  1.0|            0.0|                     1.0|\n",
      "|     0|          F|           N|              N|           1|             Married|            3.0|         76500.0|       675000.0|          Core staff|    -10954|Commercial associate|        -2469|0.04729142440452983|    Higher education|                         0|                   2|         199336.32|          49834.08|           4635000.0|            1158750.0|                  0.0|                   0.0|           4635000.0|            1158750.0|                 132.0|                   33.0|                       0.0|                        0.0|             4|                 0|                  0|                   2|                   0|                  2|                   0|                         0|                        4|Management & Admi...| 30|              0.0|               0.0|                  1.0|            2.0|                     0.0|\n",
      "|     0|          F|           N|              Y|           0|             Married|            2.0|         90000.0|       306000.0|         Sales staff|    -16219|Commercial associate|        -2599| 0.2653117484731741|Secondary / secon...|                         0|                   2|         12610.035|         12610.035|             65925.0|              65925.0|                  0.0|                   0.0|             65925.0|              65925.0|                   6.0|                    6.0|                       0.0|                        0.0|             0|                 1|                  0|                   1|                   0|                  0|                   1|                         0|                        0|     Service & Sales| 44|              0.0|               0.0|                  0.0|            1.0|                     0.0|\n",
      "|     0|          F|           N|              N|           0|Single / not married|            1.0|        117000.0|       675000.0|          Core staff|    -11633|             Working|        -2596| 0.6363951652298555|    Higher education|                         0|                   2|         14780.565|4926.8550000000005|             91890.0|              30630.0|              10669.5|               5334.75|             91890.0|              45945.0|                  16.0|      5.333333333333333|       0.31439794168096047|        0.15719897084048023|             0|                 2|                  1|                   3|                   0|                  0|                   0|                         0|                        3|Management & Admi...| 31|              0.0|               0.0|                  1.0|            2.0|                     1.0|\n",
      "|     0|          F|           N|              Y|           0|           Separated|            1.0|        119250.0|       679500.0|             Unknown|    -19286|             Working|        -1485| 0.7651254360605889|    Higher education|                         0|                   2|         63757.845|         12751.569|           1167750.0|             233550.0|              16065.0|                8032.5|           1167750.0|             233550.0|                  30.0|                    6.0|        0.3267272727272727|        0.16336363636363635|             0|                 2|                  3|                   2|                   0|                  3|                   1|                         4|                        0|    Other occupation| 52|              0.0|               0.0|                  0.0|            0.0|                     3.0|\n",
      "|     0|          M|           Y|              N|           1|             Married|            3.0|        157500.0|       252000.0|             Drivers|    -12027|Commercial associate|        -1720|0.16425890585653596|Secondary / secon...|                         0|                   2|        156746.295|13062.191250000002|           3526663.5|           293888.625|              57537.0|                6393.0|           3526663.5|           293888.625|                 244.0|     20.333333333333332|        0.7309939325783167|        0.08122154806425741|             2|                 9|                  1|                   5|                   0|                  7|                   1|                         1|                       10|     Service & Sales| 32|              1.0|               1.0|                  1.0|            1.0|                     0.0|\n",
      "|     0|          F|           N|              Y|           0|Single / not married|            1.0|        225000.0|       909000.0|         Sales staff|    -14823|Commercial associate|         -185| 0.6263387445759298|    Higher education|                         0|                   2| 64226.83500000001|16056.708750000002|            514620.0|              85770.0|              26415.0|               6603.75|            514620.0|             128655.0|                  24.0|                    6.0|       0.15183022933462306|       0.037957557333655766|             1|                 4|                  1|                   4|                   1|                  0|                   1|                         0|                        5|     Service & Sales| 40|              0.0|               0.0|                  0.0|            1.0|                     1.0|\n",
      "|     0|          M|           Y|              N|           2|             Married|            4.0|        157500.0|       720000.0|         Sales staff|    -14144|Commercial associate|        -4516| 0.7221783702089665|Secondary / secon...|                         0|                   2|          22016.61|           7338.87|            301626.0|              60325.2|               7060.5|              1765.125|            301626.0|              60325.2|                  32.0|     10.666666666666666|       0.15962438935888562|       0.039906097339721405|             1|                 4|                  0|                   3|                   0|                  0|                   0|                         0|                        5|     Service & Sales| 38|              1.0|               1.0|                  1.0|            1.0|                     0.0|\n",
      "|     0|          M|           N|              Y|           2|             Married|            4.0|        135000.0|       477000.0|            Laborers|    -11978|             Working|        -3947|  0.628531689899611|Secondary / secon...|                         0|                   3| 64502.41499999999|12900.482999999998|            853830.0|   121975.71428571429|               2902.5|               1451.25|            853830.0|             170766.0|                  96.0|                   19.2|        0.1042695022062693|        0.05213475110313465|             3|                 2|                  2|                   4|                   2|                  1|                   1|                         1|                        5|    Other occupation| 32|              1.0|               0.0|                  0.0|            0.0|                     0.0|\n",
      "|     0|          M|           Y|              Y|           0|      Civil marriage|            2.0|        308250.0|      1305000.0|             Drivers|    -15612|             Working|        -1106| 0.6984528683753916|Secondary / secon...|                         0|                   2|         46462.905|        23231.4525|           1126687.5|            563343.75|             270405.0|              270405.0|           1126687.5|            1126687.5|                  60.0|                   30.0|        0.2457287842149889|         0.2457287842149889|             0|                 1|                  1|                   2|                   0|                  0|                   1|                         0|                        1|     Service & Sales| 42|              1.0|               1.0|                  0.0|            1.0|                     2.0|\n",
      "|     0|          M|           N|              Y|           0|               Widow|            1.0|        180000.0|       225000.0|             Unknown|    -23946|           Pensioner|            0| 0.4586845685086158|Secondary / secon...|                         0|                   1|        102845.205|      12855.650625|           1384659.0|   125878.09090909091|               2740.5|                 913.5|           1384659.0|           173082.375|                 170.0|                  21.25|        0.1024334152334152|        0.03414447174447174|             8|                 3|                  0|                   6|                   3|                  2|                   1|                         0|                       10|    Other occupation| 65|              1.0|               0.0|                  0.0|            0.0|                     4.0|\n",
      "+------+-----------+------------+---------------+------------+--------------------+---------------+----------------+---------------+--------------------+----------+--------------------+-------------+-------------------+--------------------+--------------------------+--------------------+------------------+------------------+--------------------+---------------------+---------------------+----------------------+--------------------+---------------------+----------------------+-----------------------+--------------------------+---------------------------+--------------+------------------+-------------------+--------------------+--------------------+-------------------+--------------------+--------------------------+-------------------------+--------------------+---+-----------------+------------------+---------------------+---------------+------------------------+\n",
      "only showing top 20 rows\n",
      "\n"
     ]
    },
    {
     "name": "stderr",
     "output_type": "stream",
     "text": [
      "                                                                                \r"
     ]
    }
   ],
   "source": [
    "df_indexed.show()"
   ]
  },
  {
   "cell_type": "markdown",
   "id": "1b8d54dd-8282-4660-9026-a18abcbf4078",
   "metadata": {},
   "source": [
    "# Lọc lại các cột để xây dựng mô hình"
   ]
  },
  {
   "cell_type": "code",
   "execution_count": 70,
   "id": "2d703822-af17-46ed-bd91-2f3585f220d1",
   "metadata": {},
   "outputs": [
    {
     "data": {
      "text/plain": [
       "['TARGET',\n",
       " 'CODE_GENDER',\n",
       " 'FLAG_OWN_CAR',\n",
       " 'FLAG_OWN_REALTY',\n",
       " 'CNT_CHILDREN',\n",
       " 'NAME_FAMILY_STATUS',\n",
       " 'CNT_FAM_MEMBERS',\n",
       " 'AMT_INCOME_TOTAL',\n",
       " 'AMT_GOODS_PRICE',\n",
       " 'OCCUPATION_TYPE',\n",
       " 'DAYS_BIRTH',\n",
       " 'NAME_INCOME_TYPE',\n",
       " 'DAYS_EMPLOYED',\n",
       " 'EXT_SOURCE_2',\n",
       " 'NAME_EDUCATION_TYPE',\n",
       " 'REG_REGION_NOT_LIVE_REGION',\n",
       " 'REGION_RATING_CLIENT',\n",
       " 'PREV_ANNUITY_SUM',\n",
       " 'PREV_ANNUITY_MEAN',\n",
       " 'PREV_APPLICATION_SUM',\n",
       " 'PREV_APPLICATION_MEAN',\n",
       " 'PREV_DOWN_PAYMENT_SUM',\n",
       " 'PREV_DOWN_PAYMENT_MEAN',\n",
       " 'PREV_GOODS_PRICE_SUM',\n",
       " 'PREV_GOODS_PRICE_MEAN',\n",
       " 'PREV_PAYMENT_COUNT_SUM',\n",
       " 'PREV_PAYMENT_COUNT_MEAN',\n",
       " 'PREV_RATE_DOWN_PAYMENT_SUM',\n",
       " 'PREV_RATE_DOWN_PAYMENT_MEAN',\n",
       " 'PREV_TYPE_CASH',\n",
       " 'PREV_TYPE_CONSUMER',\n",
       " 'PREV_TYPE_REVOLVING',\n",
       " 'PREV_STATUS_APPROVED',\n",
       " 'PREV_STATUS_CANCELED',\n",
       " 'PREV_STATUS_REFUSED',\n",
       " 'PREV_CLIENT_TYPE_NEW',\n",
       " 'PREV_CLIENT_TYPE_REFRESHED',\n",
       " 'PREV_CLIENT_TYPE_REPEATER',\n",
       " 'job_group',\n",
       " 'AGE',\n",
       " 'CODE_GENDER_INDEX',\n",
       " 'FLAG_OWN_CAR_INDEX',\n",
       " 'FLAG_OWN_REALTY_INDEX',\n",
       " 'job_group_index',\n",
       " 'NAME_FAMILY_STATUS_INDEX']"
      ]
     },
     "execution_count": 70,
     "metadata": {},
     "output_type": "execute_result"
    }
   ],
   "source": [
    "df_indexed.columns"
   ]
  },
  {
   "cell_type": "code",
   "execution_count": 77,
   "id": "4d25057a-b504-4b31-af36-69fde53e3ade",
   "metadata": {},
   "outputs": [],
   "source": [
    "coef = dict()"
   ]
  },
  {
   "cell_type": "code",
   "execution_count": 78,
   "id": "a28afca4-f124-44c1-945e-a0340bdca5b7",
   "metadata": {},
   "outputs": [
    {
     "name": "stderr",
     "output_type": "stream",
     "text": [
      "                                                                                \r"
     ]
    },
    {
     "name": "stdout",
     "output_type": "stream",
     "text": [
      "+--------------------------+\n",
      "|corr(TARGET, EXT_SOURCE_2)|\n",
      "+--------------------------+\n",
      "|      -0.15806693875847633|\n",
      "+--------------------------+\n",
      "\n"
     ]
    }
   ],
   "source": [
    "df_train_cleaned_copy.select(corr('TARGET', 'EXT_SOURCE_2')).show()"
   ]
  },
  {
   "cell_type": "code",
   "execution_count": 79,
   "id": "d1ff3318-7a4d-4ed3-8799-0be96cf5c77a",
   "metadata": {},
   "outputs": [
    {
     "name": "stdout",
     "output_type": "stream",
     "text": [
      "root\n",
      " |-- TARGET: integer (nullable = true)\n",
      " |-- CODE_GENDER: string (nullable = true)\n",
      " |-- FLAG_OWN_CAR: string (nullable = true)\n",
      " |-- FLAG_OWN_REALTY: string (nullable = true)\n",
      " |-- CNT_CHILDREN: integer (nullable = true)\n",
      " |-- NAME_FAMILY_STATUS: string (nullable = true)\n",
      " |-- CNT_FAM_MEMBERS: double (nullable = false)\n",
      " |-- AMT_INCOME_TOTAL: double (nullable = false)\n",
      " |-- AMT_GOODS_PRICE: double (nullable = false)\n",
      " |-- OCCUPATION_TYPE: string (nullable = true)\n",
      " |-- DAYS_BIRTH: integer (nullable = true)\n",
      " |-- NAME_INCOME_TYPE: string (nullable = true)\n",
      " |-- DAYS_EMPLOYED: integer (nullable = true)\n",
      " |-- EXT_SOURCE_2: double (nullable = false)\n",
      " |-- NAME_EDUCATION_TYPE: string (nullable = true)\n",
      " |-- REG_REGION_NOT_LIVE_REGION: integer (nullable = true)\n",
      " |-- REGION_RATING_CLIENT: integer (nullable = true)\n",
      " |-- PREV_ANNUITY_SUM: double (nullable = false)\n",
      " |-- PREV_ANNUITY_MEAN: double (nullable = false)\n",
      " |-- PREV_APPLICATION_SUM: double (nullable = false)\n",
      " |-- PREV_APPLICATION_MEAN: double (nullable = false)\n",
      " |-- PREV_DOWN_PAYMENT_SUM: double (nullable = false)\n",
      " |-- PREV_DOWN_PAYMENT_MEAN: double (nullable = false)\n",
      " |-- PREV_GOODS_PRICE_SUM: double (nullable = false)\n",
      " |-- PREV_GOODS_PRICE_MEAN: double (nullable = false)\n",
      " |-- PREV_PAYMENT_COUNT_SUM: double (nullable = false)\n",
      " |-- PREV_PAYMENT_COUNT_MEAN: double (nullable = false)\n",
      " |-- PREV_RATE_DOWN_PAYMENT_SUM: double (nullable = false)\n",
      " |-- PREV_RATE_DOWN_PAYMENT_MEAN: double (nullable = false)\n",
      " |-- PREV_TYPE_CASH: long (nullable = true)\n",
      " |-- PREV_TYPE_CONSUMER: long (nullable = true)\n",
      " |-- PREV_TYPE_REVOLVING: long (nullable = true)\n",
      " |-- PREV_STATUS_APPROVED: long (nullable = true)\n",
      " |-- PREV_STATUS_CANCELED: long (nullable = true)\n",
      " |-- PREV_STATUS_REFUSED: long (nullable = true)\n",
      " |-- PREV_CLIENT_TYPE_NEW: long (nullable = true)\n",
      " |-- PREV_CLIENT_TYPE_REFRESHED: long (nullable = true)\n",
      " |-- PREV_CLIENT_TYPE_REPEATER: long (nullable = true)\n",
      " |-- job_group: string (nullable = false)\n",
      " |-- AGE: integer (nullable = true)\n",
      " |-- CODE_GENDER_INDEX: double (nullable = false)\n",
      " |-- FLAG_OWN_CAR_INDEX: double (nullable = false)\n",
      " |-- FLAG_OWN_REALTY_INDEX: double (nullable = false)\n",
      " |-- job_group_index: double (nullable = false)\n",
      " |-- NAME_FAMILY_STATUS_INDEX: double (nullable = false)\n",
      "\n"
     ]
    }
   ],
   "source": [
    "df_indexed.printSchema()"
   ]
  },
  {
   "cell_type": "code",
   "execution_count": 80,
   "id": "a8805301-adab-42f9-a995-f66867d9e56f",
   "metadata": {},
   "outputs": [
    {
     "name": "stderr",
     "output_type": "stream",
     "text": [
      "Exception in thread \"serve-DataFrame\" java.net.SocketTimeoutException: Accept timed out\n",
      "\tat java.base/sun.nio.ch.NioSocketImpl.timedAccept(NioSocketImpl.java:701)\n",
      "\tat java.base/sun.nio.ch.NioSocketImpl.accept(NioSocketImpl.java:745)\n",
      "\tat java.base/java.net.ServerSocket.implAccept(ServerSocket.java:695)\n",
      "\tat java.base/java.net.ServerSocket.platformImplAccept(ServerSocket.java:660)\n",
      "\tat java.base/java.net.ServerSocket.implAccept(ServerSocket.java:636)\n",
      "\tat java.base/java.net.ServerSocket.implAccept(ServerSocket.java:582)\n",
      "\tat java.base/java.net.ServerSocket.accept(ServerSocket.java:541)\n",
      "\tat org.apache.spark.security.SocketAuthServer$$anon$1.run(SocketAuthServer.scala:65)\n",
      "                                                                                \r"
     ]
    }
   ],
   "source": [
    "for col in df_indexed.columns:\n",
    "  coef[col] = df_indexed.select(corr('TARGET', col)).collect()[0][0]"
   ]
  },
  {
   "cell_type": "code",
   "execution_count": 81,
   "id": "44d8ffcd-f086-4126-b0f8-5117a87332f3",
   "metadata": {},
   "outputs": [],
   "source": [
    "del coef['CODE_GENDER']\n",
    "del coef['FLAG_OWN_CAR']\n",
    "del coef['FLAG_OWN_REALTY']\n",
    "del coef['job_group']\n",
    "del coef['NAME_FAMILY_STATUS']\n",
    "del coef['OCCUPATION_TYPE']\n",
    "del coef['DAYS_BIRTH']"
   ]
  },
  {
   "cell_type": "code",
   "execution_count": 82,
   "id": "2617a879-0ebd-4c03-93fd-e49d2b77a405",
   "metadata": {},
   "outputs": [
    {
     "data": {
      "text/plain": [
       "[('TARGET', 1.0),\n",
       " ('EXT_SOURCE_2', -0.15806693875847633),\n",
       " ('AGE', -0.07285294501705304),\n",
       " ('PREV_STATUS_REFUSED', 0.06909835666735042),\n",
       " ('CODE_GENDER_INDEX', 0.05851535871598681),\n",
       " ('REGION_RATING_CLIENT', 0.058171289547171726),\n",
       " ('PREV_TYPE_REVOLVING', 0.04830847026234186),\n",
       " ('PREV_CLIENT_TYPE_NEW', 0.04772732591914206),\n",
       " ('AMT_GOODS_PRICE', -0.04480703053347775),\n",
       " ('DAYS_EMPLOYED', 0.042611923993692305),\n",
       " ('PREV_RATE_DOWN_PAYMENT_SUM', -0.041813578606776716),\n",
       " ('PREV_RATE_DOWN_PAYMENT_MEAN', -0.037053780391258256),\n",
       " ('PREV_PAYMENT_COUNT_MEAN', 0.033738913980881836),\n",
       " ('PREV_PAYMENT_COUNT_SUM', 0.033334396646764776),\n",
       " ('PREV_ANNUITY_MEAN', -0.03167456312653974),\n",
       " ('job_group_index', -0.029919408977505266),\n",
       " ('PREV_TYPE_CASH', 0.02922709780103835),\n",
       " ('PREV_STATUS_APPROVED', -0.02854427018595943),\n",
       " ('PREV_DOWN_PAYMENT_SUM', -0.025889364913613783),\n",
       " ('PREV_DOWN_PAYMENT_MEAN', -0.024827260580249005),\n",
       " ('PREV_TYPE_CONSUMER', -0.02315733147517645),\n",
       " ('PREV_STATUS_CANCELED', 0.022731157223617206),\n",
       " ('CNT_CHILDREN', 0.021526495119534198),\n",
       " ('PREV_CLIENT_TYPE_REPEATER', 0.02061207775744571),\n",
       " ('FLAG_OWN_CAR_INDEX', -0.020199478777591772),\n",
       " ('PREV_APPLICATION_MEAN', -0.018564212588578738),\n",
       " ('CNT_FAM_MEMBERS', 0.012299269853360844),\n",
       " ('PREV_GOODS_PRICE_MEAN', -0.012057859758047927),\n",
       " ('PREV_CLIENT_TYPE_REFRESHED', -0.011636367689191683),\n",
       " ('PREV_GOODS_PRICE_SUM', 0.008299639949914405),\n",
       " ('PREV_APPLICATION_SUM', 0.008270966196319483),\n",
       " ('NAME_FAMILY_STATUS_INDEX', 0.007102255705786083),\n",
       " ('REG_REGION_NOT_LIVE_REGION', 0.006203515569482354),\n",
       " ('FLAG_OWN_REALTY_INDEX', 0.0061984794645287035),\n",
       " ('PREV_ANNUITY_SUM', -0.0027889712850678195),\n",
       " ('AMT_INCOME_TOTAL', -0.0003098352943535908)]"
      ]
     },
     "execution_count": 82,
     "metadata": {},
     "output_type": "execute_result"
    }
   ],
   "source": [
    "sorted_coef = sorted(\n",
    "    [(k, v) for k, v in coef.items() if v is not None],\n",
    "    key=lambda x: abs(x[1]), reverse=True\n",
    ")\n",
    "sorted_coef"
   ]
  },
  {
   "cell_type": "code",
   "execution_count": 83,
   "id": "955e2ba9-daf4-4dcf-84e9-744dcee0126d",
   "metadata": {},
   "outputs": [
    {
     "name": "stdout",
     "output_type": "stream",
     "text": [
      "EXT_SOURCE_2\n",
      "AGE\n",
      "PREV_STATUS_REFUSED\n",
      "CODE_GENDER_INDEX\n",
      "REGION_RATING_CLIENT\n",
      "PREV_TYPE_REVOLVING\n",
      "PREV_CLIENT_TYPE_NEW\n",
      "AMT_GOODS_PRICE\n",
      "DAYS_EMPLOYED\n",
      "PREV_RATE_DOWN_PAYMENT_SUM\n",
      "PREV_RATE_DOWN_PAYMENT_MEAN\n",
      "PREV_PAYMENT_COUNT_MEAN\n",
      "PREV_PAYMENT_COUNT_SUM\n",
      "PREV_ANNUITY_MEAN\n",
      "job_group_index\n",
      "PREV_TYPE_CASH\n",
      "PREV_STATUS_APPROVED\n",
      "PREV_DOWN_PAYMENT_SUM\n",
      "PREV_DOWN_PAYMENT_MEAN\n",
      "PREV_TYPE_CONSUMER\n"
     ]
    }
   ],
   "source": [
    "for i in sorted_coef[1:21]:\n",
    "  print(i[0])"
   ]
  },
  {
   "cell_type": "code",
   "execution_count": 84,
   "id": "1e874c3f-de1c-4a80-9f84-ea1584faae06",
   "metadata": {},
   "outputs": [],
   "source": [
    "feature = [i[0] for i in sorted_coef[1:]]\n",
    "figure = [abs(i[1]) for i in sorted_coef[1:]]\n"
   ]
  },
  {
   "cell_type": "code",
   "execution_count": 85,
   "id": "f023f7c8-afd4-4e9e-9e9a-bb5962a4955c",
   "metadata": {},
   "outputs": [
    {
     "data": {
      "image/png": "[encoded data removed]",
      "text/plain": [
       "<Figure size 1200x600 with 1 Axes>"
      ]
     },
     "metadata": {},
     "output_type": "display_data"
    }
   ],
   "source": [
    "import matplotlib.pyplot as plt\n",
    "\n",
    "plt.figure(figsize=(12, 6))  \n",
    "\n",
    "plt.bar(feature, figure, color='red')\n",
    "\n",
    "plt.xticks(rotation=90)\n",
    "\n",
    "plt.show()\n"
   ]
  },
  {
   "cell_type": "markdown",
   "id": "c646f064-6cc9-487a-b432-37659d51e5ea",
   "metadata": {},
   "source": [
    "# One hot encoder"
   ]
  },
  {
   "cell_type": "code",
   "execution_count": 86,
   "id": "f4947c54-1fd9-45d5-979a-985b85b3dd13",
   "metadata": {},
   "outputs": [],
   "source": [
    "encoder1 = OneHotEncoder(inputCol=\"CODE_GENDER_INDEX\", outputCol=\"CODE_GENDER_VEC\")\n",
    "df_indexed = encoder1.fit(df_indexed).transform(df_indexed)\n",
    "\n",
    "encoder2 = OneHotEncoder(inputCol=\"FLAG_OWN_CAR_INDEX\", outputCol=\"FLAG_OWN_CAR_VEC\")\n",
    "df_indexed = encoder2.fit(df_indexed).transform(df_indexed)"
   ]
  },
  {
   "cell_type": "code",
   "execution_count": 87,
   "id": "4eb8ee46-8bc6-4a3f-9258-be672681288d",
   "metadata": {},
   "outputs": [],
   "source": [
    "encoder3 = OneHotEncoder(inputCol=\"FLAG_OWN_REALTY_INDEX\", outputCol=\"FLAG_OWN_REALTY_VEC\")\n",
    "df_indexed = encoder3.fit(df_indexed).transform(df_indexed)\n",
    "\n",
    "encoder4 = OneHotEncoder(inputCol=\"job_group_index\", outputCol=\"job_group_vec\")\n",
    "df_indexed = encoder4.fit(df_indexed).transform(df_indexed)\n",
    "\n",
    "encoder5 = OneHotEncoder(inputCol=\"NAME_FAMILY_STATUS_INDEX\", outputCol=\"NAME_FAMILY_STATUS_VEC\")\n",
    "df_indexed = encoder5.fit(df_indexed).transform(df_indexed)\n"
   ]
  },
  {
   "cell_type": "code",
   "execution_count": 88,
   "id": "c791ec6b-e4dd-4801-b127-800507de1d97",
   "metadata": {},
   "outputs": [],
   "source": [
    "df_indexed = df_indexed.drop('CODE_GENDER_INDEX', 'FLAG_OWN_CAR_INDEX', 'FLAG_OWN_REALTY_INDEX', 'OCCUPATION_TYPE_INDEX', 'NAME_FAMILY_STATUS_INDEX', 'job_group_index')"
   ]
  },
  {
   "cell_type": "code",
   "execution_count": 89,
   "id": "dd7ae492-ecd2-4923-a126-beb3ec1f6e2f",
   "metadata": {},
   "outputs": [
    {
     "name": "stderr",
     "output_type": "stream",
     "text": [
      "[Stage 897:>                                                        (0 + 1) / 1]\r"
     ]
    },
    {
     "name": "stdout",
     "output_type": "stream",
     "text": [
      "+------+-----------+------------+---------------+------------+--------------------+---------------+----------------+---------------+--------------------+----------+--------------------+-------------+-------------------+--------------------+--------------------------+--------------------+------------------+------------------+--------------------+---------------------+---------------------+----------------------+--------------------+---------------------+----------------------+-----------------------+--------------------------+---------------------------+--------------+------------------+-------------------+--------------------+--------------------+-------------------+--------------------+--------------------------+-------------------------+--------------------+---+---------------+----------------+-------------------+-------------+----------------------+\n",
      "|TARGET|CODE_GENDER|FLAG_OWN_CAR|FLAG_OWN_REALTY|CNT_CHILDREN|  NAME_FAMILY_STATUS|CNT_FAM_MEMBERS|AMT_INCOME_TOTAL|AMT_GOODS_PRICE|     OCCUPATION_TYPE|DAYS_BIRTH|    NAME_INCOME_TYPE|DAYS_EMPLOYED|       EXT_SOURCE_2| NAME_EDUCATION_TYPE|REG_REGION_NOT_LIVE_REGION|REGION_RATING_CLIENT|  PREV_ANNUITY_SUM| PREV_ANNUITY_MEAN|PREV_APPLICATION_SUM|PREV_APPLICATION_MEAN|PREV_DOWN_PAYMENT_SUM|PREV_DOWN_PAYMENT_MEAN|PREV_GOODS_PRICE_SUM|PREV_GOODS_PRICE_MEAN|PREV_PAYMENT_COUNT_SUM|PREV_PAYMENT_COUNT_MEAN|PREV_RATE_DOWN_PAYMENT_SUM|PREV_RATE_DOWN_PAYMENT_MEAN|PREV_TYPE_CASH|PREV_TYPE_CONSUMER|PREV_TYPE_REVOLVING|PREV_STATUS_APPROVED|PREV_STATUS_CANCELED|PREV_STATUS_REFUSED|PREV_CLIENT_TYPE_NEW|PREV_CLIENT_TYPE_REFRESHED|PREV_CLIENT_TYPE_REPEATER|           job_group|AGE|CODE_GENDER_VEC|FLAG_OWN_CAR_VEC|FLAG_OWN_REALTY_VEC|job_group_vec|NAME_FAMILY_STATUS_VEC|\n",
      "+------+-----------+------------+---------------+------------+--------------------+---------------+----------------+---------------+--------------------+----------+--------------------+-------------+-------------------+--------------------+--------------------------+--------------------+------------------+------------------+--------------------+---------------------+---------------------+----------------------+--------------------+---------------------+----------------------+-----------------------+--------------------------+---------------------------+--------------+------------------+-------------------+--------------------+--------------------+-------------------+--------------------+--------------------------+-------------------------+--------------------+---+---------------+----------------+-------------------+-------------+----------------------+\n",
      "|     0|          F|           N|              N|           0|             Married|            2.0|        270000.0|      1129500.0|          Core staff|    -16765|       State servant|        -1188| 0.6222457752555098|    Higher education|                         0|                   1|         169661.97|          56553.99|           1306309.5|             435436.5|               6885.0|                3442.5|           1306309.5|             435436.5|                  30.0|                   10.0|       0.10006059514256237|        0.05003029757128118|             1|                 2|                  0|                   3|                   0|                  0|                   0|                         2|                        1|Management & Admi...| 45|  (1,[0],[1.0])|   (1,[0],[1.0])|          (1,[],[])|(3,[2],[1.0])|         (4,[0],[1.0])|\n",
      "|     0|          M|           N|              Y|           0|Single / not married|            1.0|        121500.0|       513000.0|          Core staff|    -19932|             Working|        -3038| 0.3227382869704046|Secondary / secon...|                         0|                   2|          73672.83|         12278.805|            903181.5|            150530.25|               6781.5|               3390.75|            903181.5|            150530.25|                 124.0|     20.666666666666668|        0.3190328120503534|         0.1595164060251767|             4|                 2|                  0|                   6|                   0|                  0|                   1|                         0|                        5|Management & Admi...| 54|      (1,[],[])|   (1,[0],[1.0])|      (1,[0],[1.0])|(3,[2],[1.0])|         (4,[1],[1.0])|\n",
      "|     0|          M|           N|              N|           0|             Married|            2.0|        108000.0|       387000.0|             Drivers|    -12931|             Working|        -1317| 0.2363778398884225|Secondary / secon...|                         0|                   2|         14509.035|         7254.5175|             78412.5|             39206.25|                  0.0|                   0.0|             78412.5|             39206.25|                  14.0|                    7.0|                       0.0|                        0.0|             0|                 2|                  0|                   2|                   0|                  0|                   1|                         0|                        1|     Service & Sales| 35|      (1,[],[])|   (1,[0],[1.0])|          (1,[],[])|(3,[1],[1.0])|         (4,[0],[1.0])|\n",
      "|     0|          F|           N|              Y|           0|      Civil marriage|            2.0|        292500.0|       477000.0|             Unknown|    -15280|Commercial associate|        -2668|  0.479987342189869|Secondary / secon...|                         0|                   2|189857.52000000002|         18985.752|           3429022.5|    155864.6590909091|              14053.5|                4684.5|           3429022.5|            342902.25|                 226.0|                   22.6|       0.18851265457141925|        0.06283755152380642|            19|                 3|                  0|                   8|                   6|                  8|                   1|                         0|                       21|    Other occupation| 41|  (1,[0],[1.0])|   (1,[0],[1.0])|      (1,[0],[1.0])|(3,[0],[1.0])|         (4,[2],[1.0])|\n",
      "|     0|          F|           N|              Y|           0|             Married|            2.0|        180000.0|       666000.0|            Managers|    -12955|             Working|        -4106| 0.6166372926426479|    Higher education|                         0|                   2|143528.71500000003|20504.102142857148|           1537078.5|             170786.5|              31135.5|              15567.75|           1537078.5|   219582.64285714287|                 150.0|     21.428571428571427|          0.20086418765827|          0.100432093829135|             6|                 2|                  1|                   4|                   2|                  3|                   1|                         0|                        8|Management & Admi...| 35|  (1,[0],[1.0])|   (1,[0],[1.0])|      (1,[0],[1.0])|(3,[2],[1.0])|         (4,[0],[1.0])|\n",
      "|     0|          M|           Y|              N|           0|      Civil marriage|            2.0|        180000.0|       450000.0|            Laborers|    -10848|Commercial associate|         -121| 0.6454384930609306|Secondary / secon...|                         0|                   2|           6075.63|           6075.63|             46755.0|              46755.0|               4680.0|                4680.0|             46755.0|              46755.0|                  10.0|                   10.0|       0.10148324930154516|        0.10148324930154516|             0|                 1|                  0|                   1|                   0|                  0|                   1|                         0|                        0|    Other occupation| 29|      (1,[],[])|       (1,[],[])|          (1,[],[])|(3,[0],[1.0])|         (4,[2],[1.0])|\n",
      "|     0|          F|           Y|              Y|           0|Single / not married|            1.0|        202500.0|       283500.0|High skill tech s...|    -18138|       State servant|         -969| 0.7162122102538987|    Higher education|                         0|                   1|         82248.255|       20562.06375|            891216.0|             178243.2|                  0.0|                   0.0|            891216.0|             222804.0|                  30.0|                    7.5|                       0.0|                        0.0|             3|                 1|                  1|                   4|                   1|                  0|                   1|                         0|                        4|Professional/Tech...| 49|  (1,[0],[1.0])|       (1,[],[])|      (1,[0],[1.0])|    (3,[],[])|         (4,[1],[1.0])|\n",
      "|     0|          F|           N|              Y|           3|             Married|            5.0|        171000.0|       450000.0|         Sales staff|    -12780|             Working|        -1415| 0.7566679797246073|Secondary / secon...|                         0|                   2|          25269.66|          25269.66|            125955.0|             125955.0|              22500.0|               22500.0|            125955.0|             125955.0|                   6.0|                    6.0|        0.1685377451394164|         0.1685377451394164|             0|                 1|                  0|                   1|                   0|                  0|                   1|                         0|                        0|     Service & Sales| 35|  (1,[0],[1.0])|   (1,[0],[1.0])|      (1,[0],[1.0])|(3,[1],[1.0])|         (4,[0],[1.0])|\n",
      "|     0|          M|           Y|              Y|           3|             Married|            5.0|        135000.0|       337500.0|            Laborers|    -10744|Commercial associate|         -741| 0.6405493008893001|Secondary / secon...|                         0|                   2|          27615.51|         6903.8775|            273771.0|             68442.75|              13621.5|                4540.5|            273771.0|             68442.75|                  42.0|                   10.5|         0.086345683127768|       0.028781894375922667|             0|                 3|                  1|                   4|                   0|                  0|                   1|                         0|                        3|    Other occupation| 29|      (1,[],[])|       (1,[],[])|      (1,[0],[1.0])|(3,[0],[1.0])|         (4,[0],[1.0])|\n",
      "|     0|          M|           Y|              N|           0|Single / not married|            1.0|         76500.0|       135000.0|  Low-skill Laborers|    -15137|             Working|        -7980| 0.5930185238421518|Secondary / secon...|                         0|                   2|           20290.5|          5072.625|            208210.5|            52052.625|               2700.0|                1350.0|            208210.5|            52052.625|                  30.0|                    7.5|        0.1091091243036476|         0.0545545621518238|             1|                 2|                  1|                   2|                   0|                  2|                   1|                         2|                        1|    Other occupation| 41|      (1,[],[])|       (1,[],[])|          (1,[],[])|(3,[0],[1.0])|         (4,[1],[1.0])|\n",
      "|     0|          F|           N|              N|           1|             Married|            3.0|         76500.0|       675000.0|          Core staff|    -10954|Commercial associate|        -2469|0.04729142440452983|    Higher education|                         0|                   2|         199336.32|          49834.08|           4635000.0|            1158750.0|                  0.0|                   0.0|           4635000.0|            1158750.0|                 132.0|                   33.0|                       0.0|                        0.0|             4|                 0|                  0|                   2|                   0|                  2|                   0|                         0|                        4|Management & Admi...| 30|  (1,[0],[1.0])|   (1,[0],[1.0])|          (1,[],[])|(3,[2],[1.0])|         (4,[0],[1.0])|\n",
      "|     0|          F|           N|              Y|           0|             Married|            2.0|         90000.0|       306000.0|         Sales staff|    -16219|Commercial associate|        -2599| 0.2653117484731741|Secondary / secon...|                         0|                   2|         12610.035|         12610.035|             65925.0|              65925.0|                  0.0|                   0.0|             65925.0|              65925.0|                   6.0|                    6.0|                       0.0|                        0.0|             0|                 1|                  0|                   1|                   0|                  0|                   1|                         0|                        0|     Service & Sales| 44|  (1,[0],[1.0])|   (1,[0],[1.0])|      (1,[0],[1.0])|(3,[1],[1.0])|         (4,[0],[1.0])|\n",
      "|     0|          F|           N|              N|           0|Single / not married|            1.0|        117000.0|       675000.0|          Core staff|    -11633|             Working|        -2596| 0.6363951652298555|    Higher education|                         0|                   2|         14780.565|4926.8550000000005|             91890.0|              30630.0|              10669.5|               5334.75|             91890.0|              45945.0|                  16.0|      5.333333333333333|       0.31439794168096047|        0.15719897084048023|             0|                 2|                  1|                   3|                   0|                  0|                   0|                         0|                        3|Management & Admi...| 31|  (1,[0],[1.0])|   (1,[0],[1.0])|          (1,[],[])|(3,[2],[1.0])|         (4,[1],[1.0])|\n",
      "|     0|          F|           N|              Y|           0|           Separated|            1.0|        119250.0|       679500.0|             Unknown|    -19286|             Working|        -1485| 0.7651254360605889|    Higher education|                         0|                   2|         63757.845|         12751.569|           1167750.0|             233550.0|              16065.0|                8032.5|           1167750.0|             233550.0|                  30.0|                    6.0|        0.3267272727272727|        0.16336363636363635|             0|                 2|                  3|                   2|                   0|                  3|                   1|                         4|                        0|    Other occupation| 52|  (1,[0],[1.0])|   (1,[0],[1.0])|      (1,[0],[1.0])|(3,[0],[1.0])|         (4,[3],[1.0])|\n",
      "|     0|          M|           Y|              N|           1|             Married|            3.0|        157500.0|       252000.0|             Drivers|    -12027|Commercial associate|        -1720|0.16425890585653596|Secondary / secon...|                         0|                   2|        156746.295|13062.191250000002|           3526663.5|           293888.625|              57537.0|                6393.0|           3526663.5|           293888.625|                 244.0|     20.333333333333332|        0.7309939325783167|        0.08122154806425741|             2|                 9|                  1|                   5|                   0|                  7|                   1|                         1|                       10|     Service & Sales| 32|      (1,[],[])|       (1,[],[])|          (1,[],[])|(3,[1],[1.0])|         (4,[0],[1.0])|\n",
      "|     0|          F|           N|              Y|           0|Single / not married|            1.0|        225000.0|       909000.0|         Sales staff|    -14823|Commercial associate|         -185| 0.6263387445759298|    Higher education|                         0|                   2| 64226.83500000001|16056.708750000002|            514620.0|              85770.0|              26415.0|               6603.75|            514620.0|             128655.0|                  24.0|                    6.0|       0.15183022933462306|       0.037957557333655766|             1|                 4|                  1|                   4|                   1|                  0|                   1|                         0|                        5|     Service & Sales| 40|  (1,[0],[1.0])|   (1,[0],[1.0])|      (1,[0],[1.0])|(3,[1],[1.0])|         (4,[1],[1.0])|\n",
      "|     0|          M|           Y|              N|           2|             Married|            4.0|        157500.0|       720000.0|         Sales staff|    -14144|Commercial associate|        -4516| 0.7221783702089665|Secondary / secon...|                         0|                   2|          22016.61|           7338.87|            301626.0|              60325.2|               7060.5|              1765.125|            301626.0|              60325.2|                  32.0|     10.666666666666666|       0.15962438935888562|       0.039906097339721405|             1|                 4|                  0|                   3|                   0|                  0|                   0|                         0|                        5|     Service & Sales| 38|      (1,[],[])|       (1,[],[])|          (1,[],[])|(3,[1],[1.0])|         (4,[0],[1.0])|\n",
      "|     0|          M|           N|              Y|           2|             Married|            4.0|        135000.0|       477000.0|            Laborers|    -11978|             Working|        -3947|  0.628531689899611|Secondary / secon...|                         0|                   3| 64502.41499999999|12900.482999999998|            853830.0|   121975.71428571429|               2902.5|               1451.25|            853830.0|             170766.0|                  96.0|                   19.2|        0.1042695022062693|        0.05213475110313465|             3|                 2|                  2|                   4|                   2|                  1|                   1|                         1|                        5|    Other occupation| 32|      (1,[],[])|   (1,[0],[1.0])|      (1,[0],[1.0])|(3,[0],[1.0])|         (4,[0],[1.0])|\n",
      "|     0|          M|           Y|              Y|           0|      Civil marriage|            2.0|        308250.0|      1305000.0|             Drivers|    -15612|             Working|        -1106| 0.6984528683753916|Secondary / secon...|                         0|                   2|         46462.905|        23231.4525|           1126687.5|            563343.75|             270405.0|              270405.0|           1126687.5|            1126687.5|                  60.0|                   30.0|        0.2457287842149889|         0.2457287842149889|             0|                 1|                  1|                   2|                   0|                  0|                   1|                         0|                        1|     Service & Sales| 42|      (1,[],[])|       (1,[],[])|      (1,[0],[1.0])|(3,[1],[1.0])|         (4,[2],[1.0])|\n",
      "|     0|          M|           N|              Y|           0|               Widow|            1.0|        180000.0|       225000.0|             Unknown|    -23946|           Pensioner|            0| 0.4586845685086158|Secondary / secon...|                         0|                   1|        102845.205|      12855.650625|           1384659.0|   125878.09090909091|               2740.5|                 913.5|           1384659.0|           173082.375|                 170.0|                  21.25|        0.1024334152334152|        0.03414447174447174|             8|                 3|                  0|                   6|                   3|                  2|                   1|                         0|                       10|    Other occupation| 65|      (1,[],[])|   (1,[0],[1.0])|      (1,[0],[1.0])|(3,[0],[1.0])|             (4,[],[])|\n",
      "+------+-----------+------------+---------------+------------+--------------------+---------------+----------------+---------------+--------------------+----------+--------------------+-------------+-------------------+--------------------+--------------------------+--------------------+------------------+------------------+--------------------+---------------------+---------------------+----------------------+--------------------+---------------------+----------------------+-----------------------+--------------------------+---------------------------+--------------+------------------+-------------------+--------------------+--------------------+-------------------+--------------------+--------------------------+-------------------------+--------------------+---+---------------+----------------+-------------------+-------------+----------------------+\n",
      "only showing top 20 rows\n",
      "\n"
     ]
    },
    {
     "name": "stderr",
     "output_type": "stream",
     "text": [
      "                                                                                \r"
     ]
    }
   ],
   "source": [
    "df_indexed.show()"
   ]
  },
  {
   "cell_type": "markdown",
   "id": "638ecc5d-7df3-4802-b6c3-391ad4308057",
   "metadata": {},
   "source": [
    "# Xây dựng mô hình"
   ]
  },
  {
   "cell_type": "code",
   "execution_count": 91,
   "id": "a4ef56b4-39a5-4930-a78b-0e860f6f6c94",
   "metadata": {},
   "outputs": [
    {
     "name": "stderr",
     "output_type": "stream",
     "text": [
      "[Stage 902:>                                                        (0 + 1) / 1]\r"
     ]
    },
    {
     "name": "stdout",
     "output_type": "stream",
     "text": [
      "+--------------------+------+\n",
      "|            features|TARGET|\n",
      "+--------------------+------+\n",
      "|[45.0,0.0,1.0,1.0...|     0|\n",
      "|[54.0,0.0,0.0,2.0...|     0|\n",
      "|(22,[0,3,5,6,7,8,...|     0|\n",
      "|[41.0,8.0,1.0,2.0...|     0|\n",
      "|[35.0,3.0,1.0,2.0...|     0|\n",
      "|[29.0,0.0,0.0,2.0...|     0|\n",
      "|[49.0,0.0,1.0,1.0...|     0|\n",
      "|[35.0,0.0,1.0,2.0...|     0|\n",
      "|[29.0,0.0,0.0,2.0...|     0|\n",
      "|[41.0,2.0,0.0,2.0...|     0|\n",
      "|(22,[0,1,2,3,6,7,...|     0|\n",
      "|(22,[0,2,3,5,6,7,...|     0|\n",
      "|[31.0,0.0,1.0,2.0...|     0|\n",
      "|[52.0,3.0,1.0,2.0...|     0|\n",
      "|[32.0,7.0,0.0,2.0...|     0|\n",
      "|[40.0,0.0,1.0,2.0...|     0|\n",
      "|[38.0,0.0,0.0,2.0...|     0|\n",
      "|[32.0,1.0,0.0,3.0...|     0|\n",
      "|[42.0,0.0,0.0,2.0...|     0|\n",
      "|[65.0,2.0,0.0,1.0...|     0|\n",
      "+--------------------+------+\n",
      "only showing top 20 rows\n",
      "\n"
     ]
    },
    {
     "name": "stderr",
     "output_type": "stream",
     "text": [
      "                                                                                \r"
     ]
    }
   ],
   "source": [
    "assembler = VectorAssembler(\n",
    "    inputCols=[\n",
    "        'AGE',\n",
    "        'PREV_STATUS_REFUSED',\n",
    "        'CODE_GENDER_VEC',\n",
    "        'REGION_RATING_CLIENT',\n",
    "        'PREV_TYPE_REVOLVING',\n",
    "        'PREV_CLIENT_TYPE_NEW',\n",
    "        'AMT_GOODS_PRICE',\n",
    "        'DAYS_EMPLOYED',\n",
    "        'EXT_SOURCE_2',\n",
    "        'PREV_RATE_DOWN_PAYMENT_SUM',\n",
    "        'PREV_RATE_DOWN_PAYMENT_MEAN',\n",
    "        'PREV_PAYMENT_COUNT_MEAN',\n",
    "        'PREV_PAYMENT_COUNT_SUM',\n",
    "        'PREV_ANNUITY_MEAN',\n",
    "        'job_group_vec',\n",
    "        'PREV_TYPE_CASH',\n",
    "        'PREV_STATUS_APPROVED',\n",
    "        'PREV_DOWN_PAYMENT_SUM',\n",
    "        'PREV_DOWN_PAYMENT_MEAN',\n",
    "        'PREV_TYPE_CONSUMER'\n",
    "    ], \n",
    "    outputCol='features'\n",
    ")\n",
    "\n",
    "df_indexed = assembler.transform(df_indexed).select('features', 'TARGET')\n",
    "df_indexed.show()"
   ]
  },
  {
   "cell_type": "code",
   "execution_count": 92,
   "id": "e0ef4c17-8f4a-47c9-8ad6-9dacfbaa81da",
   "metadata": {},
   "outputs": [],
   "source": [
    "df_indexed_train, df_indexed_test = df_indexed.randomSplit([0.7, 0.3])"
   ]
  },
  {
   "cell_type": "code",
   "execution_count": 93,
   "id": "f8c71c52-98ae-4602-9511-124c645851cb",
   "metadata": {},
   "outputs": [
    {
     "name": "stderr",
     "output_type": "stream",
     "text": [
      "                                                                                \r"
     ]
    }
   ],
   "source": [
    "scaler = MinMaxScaler(inputCol=\"features\", outputCol=\"scaled_features\")\n",
    "scaler_model = scaler.fit(df_indexed_train)\n",
    "df_indexed_train = scaler_model.transform(df_indexed_train)\n",
    "df_indexed_test = scaler_model.transform(df_indexed_test)"
   ]
  },
  {
   "cell_type": "code",
   "execution_count": 112,
   "id": "2567e169-2f02-4de3-803e-c8dc49232f7c",
   "metadata": {},
   "outputs": [
    {
     "name": "stderr",
     "output_type": "stream",
     "text": [
      "[Stage 6160:==============>                                         (2 + 6) / 8]\r"
     ]
    },
    {
     "name": "stdout",
     "output_type": "stream",
     "text": [
      "Best regularization parameter: 0.01\n",
      "Best elasticNet parameter: 0.0\n",
      "Best threshold: 0.2\n"
     ]
    }
   ],
   "source": [
    "from pyspark.ml.classification import LogisticRegression\n",
    "from pyspark.ml.tuning import ParamGridBuilder, CrossValidator\n",
    "from pyspark.ml.evaluation import BinaryClassificationEvaluator\n",
    "from pyspark.ml.feature import VectorAssembler\n",
    "from pyspark.sql.functions import col, when\n",
    "from sklearn.metrics import precision_recall_curve, confusion_matrix\n",
    "import numpy as np\n",
    "import matplotlib.pyplot as plt\n",
    "\n",
    "lr = LogisticRegression(featuresCol='features', labelCol='TARGET')\n",
    "\n",
    "eval = BinaryClassificationEvaluator(labelCol='TARGET')\n",
    "\n",
    "param = (\n",
    "    ParamGridBuilder()\n",
    "    .addGrid(lr.regParam, [0.01, 0.1])\n",
    "    .addGrid(lr.elasticNetParam, [0.0, 0.5, 1.0])\n",
    "    .addGrid(lr.threshold, [0.2, 0.8])\n",
    "    .build()\n",
    ")\n",
    "\n",
    "cross = CrossValidator(estimator=lr, estimatorParamMaps=param, evaluator=eval, numFolds=5)\n",
    "\n",
    "cv_model = cross.fit(df_indexed_train)\n",
    "\n",
    "best_model = cv_model.bestModel\n",
    "print(\"Best regularization parameter:\", best_model._java_obj.getRegParam())\n",
    "print(\"Best elasticNet parameter:\", best_model._java_obj.getElasticNetParam())\n",
    "print(\"Best threshold:\", best_model._java_obj.getThreshold())\n"
   ]
  },
  {
   "cell_type": "code",
   "execution_count": 114,
   "id": "95e7e798-eb79-48e4-9f9e-d9b2140bf1f7",
   "metadata": {},
   "outputs": [
    {
     "data": {
      "image/png": "[encoded data removed]",
      "text/plain": [
       "<Figure size 800x600 with 1 Axes>"
      ]
     },
     "metadata": {},
     "output_type": "display_data"
    }
   ],
   "source": [
    "plt.figure(figsize=(8, 6))\n",
    "sns.heatmap(conf_matrix, annot=True, fmt='d', cmap='Reds', cbar=False,\n",
    "            xticklabels=['Negative', 'Positive'], yticklabels=['Negative', 'Positive'])\n",
    "\n",
    "plt.xlabel('Predicted Labels')\n",
    "plt.ylabel('True Labels')\n",
    "plt.title('Confusion Matrix')\n",
    "plt.show()"
   ]
  },
  {
   "cell_type": "markdown",
   "id": "ef3786e8-4820-4c2f-91ea-28c9c23b90a9",
   "metadata": {},
   "source": [
    "# Xây dựng lại mô hình từ thông số trên"
   ]
  },
  {
   "cell_type": "code",
   "execution_count": 167,
   "id": "7767ddca-a782-4837-aa0e-a88f6765e20f",
   "metadata": {},
   "outputs": [],
   "source": [
    "lr_2_threshold = LogisticRegression(featuresCol='features', labelCol='TARGET', regParam=0.01, elasticNetParam=0.0, threshold=0.2)"
   ]
  },
  {
   "cell_type": "code",
   "execution_count": 171,
   "id": "f1269337-e67c-471f-95b2-e5fe1be8a2aa",
   "metadata": {},
   "outputs": [],
   "source": [
    "df_train, df_val = df_train_cleaned_copy.randomSplit([0.7, 0.3])\n",
    "df_valid, df_test = df_val.randomSplit([0.5, 0.5])"
   ]
  },
  {
   "cell_type": "code",
   "execution_count": 172,
   "id": "49e81b00-7df5-4a5a-a46a-ddb370558403",
   "metadata": {},
   "outputs": [],
   "source": [
    "pipe_2 = Pipeline(stages=[\n",
    "    indexer1,\n",
    "    encoder1,\n",
    "    indexer2,\n",
    "    encoder2,\n",
    "    indexer3,\n",
    "    encoder3,\n",
    "    indexer4,\n",
    "    encoder4,\n",
    "    indexer5,\n",
    "    encoder5,\n",
    "    assembler,\n",
    "    scaler,\n",
    "    lr_2_threshold\n",
    "])\n"
   ]
  },
  {
   "cell_type": "code",
   "execution_count": 173,
   "id": "c92199c9-9b7a-4c6e-9c11-ee062d1fcb9e",
   "metadata": {},
   "outputs": [
    {
     "name": "stderr",
     "output_type": "stream",
     "text": [
      "[Stage 7679:============================>                           (4 + 4) / 8]\r"
     ]
    }
   ],
   "source": [
    "pipe_model = pipe_2.fit(df_train)\n",
    "predict = pipe_model.transform(df_val)"
   ]
  },
  {
   "cell_type": "code",
   "execution_count": 174,
   "id": "3943c327-f97d-472c-8d9e-f87298669bc6",
   "metadata": {},
   "outputs": [
    {
     "name": "stderr",
     "output_type": "stream",
     "text": [
      "[Stage 7684:======>                                                 (1 + 8) / 9]\r"
     ]
    },
    {
     "name": "stdout",
     "output_type": "stream",
     "text": [
      "+----------+\n",
      "|prediction|\n",
      "+----------+\n",
      "|       0.0|\n",
      "|       1.0|\n",
      "+----------+\n",
      "\n"
     ]
    },
    {
     "name": "stderr",
     "output_type": "stream",
     "text": [
      "                                                                                \r"
     ]
    }
   ],
   "source": [
    "predict.select('prediction').distinct().show()"
   ]
  },
  {
   "cell_type": "code",
   "execution_count": 184,
   "id": "06ebd381-8699-4d70-a904-2b3e48c09a82",
   "metadata": {},
   "outputs": [
    {
     "name": "stderr",
     "output_type": "stream",
     "text": [
      "                                                                                \r"
     ]
    },
    {
     "name": "stdout",
     "output_type": "stream",
     "text": [
      "Accuracy: 0.8997708563184248\n",
      "Precision: 0.8768521780765873\n",
      "Recall: 0.8997708563184249\n",
      "F1-Score: 0.886681814434805\n",
      "AUC: 0.7034391080168727\n"
     ]
    }
   ],
   "source": [
    "evaluator_acc = MulticlassClassificationEvaluator(labelCol=\"TARGET\", predictionCol=\"prediction\", metricName=\"accuracy\")\n",
    "accuracy = evaluator_acc.evaluate(predict)\n",
    "\n",
    "evaluator_prec = MulticlassClassificationEvaluator(labelCol=\"TARGET\",\n",
    "                                                   predictionCol=\"prediction\",\n",
    "                                                   metricName=\"weightedPrecision\")\n",
    "precision = evaluator_prec.evaluate(predict)\n",
    "\n",
    "evaluator_rec = MulticlassClassificationEvaluator(labelCol=\"TARGET\", predictionCol=\"prediction\", metricName=\"weightedRecall\")\n",
    "recall = evaluator_rec.evaluate(predict)\n",
    "\n",
    "evaluator_f1 = MulticlassClassificationEvaluator(labelCol=\"TARGET\", predictionCol=\"prediction\", metricName=\"f1\")\n",
    "f1 = evaluator_f1.evaluate(predict)\n",
    "\n",
    "evaluator_auc = BinaryClassificationEvaluator(labelCol=\"TARGET\", metricName=\"areaUnderROC\")\n",
    "auc = evaluator_auc.evaluate(predict)\n",
    "\n",
    "print(f\"Accuracy: {accuracy}\")\n",
    "print(f\"Precision: {precision}\")\n",
    "print(f\"Recall: {recall}\")\n",
    "print(f\"F1-Score: {f1}\")\n",
    "print(f\"AUC: {auc}\")"
   ]
  },
  {
   "cell_type": "code",
   "execution_count": 195,
   "id": "8476886c-fc34-428d-b205-45fc461990bf",
   "metadata": {},
   "outputs": [
    {
     "name": "stdout",
     "output_type": "stream",
     "text": [
      "Coefficients: [-0.021680351214319517,0.07137148440452855,-0.3501939521255475,0.14590156606125734,0.07921093224726145,0.12270806820228984,-1.0448818026977571e-07,4.622972919950935e-05,-2.1464237352197437,-0.24356859519083962,-0.40240237658982836,0.013788294971443092,0.0004724621459020153,-1.1685172499363601e-05,0.1039581186746454,0.23784615699668393,-0.07624049894986566,0.0010596289519201416,-0.04011723499130508,5.0674038437750875e-08,-1.0454018855177903e-06,-0.053054419448945955]\n",
      "Intercept: -0.46017541403886186\n"
     ]
    }
   ],
   "source": [
    "logistic_model = pipe_model.stages[-1]  \n",
    "\n",
    "print(\"Coefficients: \" + str(logistic_model.coefficients))\n",
    "print(\"Intercept: \" + str(logistic_model.intercept))"
   ]
  },
  {
   "cell_type": "code",
   "execution_count": 186,
   "id": "b830fa50-ed1c-4663-8c25-ff1ec5df2c3b",
   "metadata": {},
   "outputs": [
    {
     "name": "stderr",
     "output_type": "stream",
     "text": [
      "[Stage 7791:======>                                                 (1 + 8) / 9]\r"
     ]
    },
    {
     "name": "stdout",
     "output_type": "stream",
     "text": [
      "+----------+\n",
      "|prediction|\n",
      "+----------+\n",
      "|       0.0|\n",
      "|       1.0|\n",
      "+----------+\n",
      "\n"
     ]
    },
    {
     "name": "stderr",
     "output_type": "stream",
     "text": [
      "                                                                                \r"
     ]
    }
   ],
   "source": [
    "predict.select('prediction').distinct().show()"
   ]
  },
  {
   "cell_type": "code",
   "execution_count": 187,
   "id": "3fc2321b-266f-4e41-86ef-a070cf09b299",
   "metadata": {},
   "outputs": [
    {
     "name": "stderr",
     "output_type": "stream",
     "text": [
      "[Stage 7797:==========================================>             (6 + 2) / 8]\r"
     ]
    },
    {
     "name": "stdout",
     "output_type": "stream",
     "text": [
      "+----------+------+\n",
      "|prediction|TARGET|\n",
      "+----------+------+\n",
      "|       0.0|     0|\n",
      "|       0.0|     0|\n",
      "|       0.0|     0|\n",
      "|       0.0|     0|\n",
      "|       0.0|     0|\n",
      "|       0.0|     0|\n",
      "|       0.0|     0|\n",
      "|       0.0|     0|\n",
      "|       0.0|     0|\n",
      "|       0.0|     0|\n",
      "|       0.0|     0|\n",
      "|       0.0|     0|\n",
      "|       0.0|     0|\n",
      "|       0.0|     0|\n",
      "|       0.0|     0|\n",
      "|       0.0|     0|\n",
      "|       0.0|     0|\n",
      "|       0.0|     0|\n",
      "|       0.0|     0|\n",
      "|       0.0|     0|\n",
      "+----------+------+\n",
      "only showing top 20 rows\n",
      "\n"
     ]
    },
    {
     "name": "stderr",
     "output_type": "stream",
     "text": [
      "                                                                                \r"
     ]
    }
   ],
   "source": [
    "res_df = predict.select('prediction', 'TARGET')\n",
    "res_df.show()"
   ]
  },
  {
   "cell_type": "code",
   "execution_count": 188,
   "id": "aab1e597-7b9a-4b29-891c-5f41177e49a3",
   "metadata": {},
   "outputs": [
    {
     "name": "stderr",
     "output_type": "stream",
     "text": [
      "[Stage 7805:>                                                       (0 + 8) / 9]\r"
     ]
    },
    {
     "name": "stdout",
     "output_type": "stream",
     "text": [
      "+------+----------+-----+\n",
      "|TARGET|prediction|count|\n",
      "+------+----------+-----+\n",
      "|     1|       0.0| 4776|\n",
      "|     0|       0.0|62748|\n",
      "|     1|       1.0|  864|\n",
      "|     0|       1.0| 2310|\n",
      "+------+----------+-----+\n",
      "\n"
     ]
    },
    {
     "name": "stderr",
     "output_type": "stream",
     "text": [
      "                                                                                \r"
     ]
    }
   ],
   "source": [
    "res = res_df.groupBy(\"TARGET\", \"prediction\").count()\n",
    "res.show()"
   ]
  },
  {
   "cell_type": "code",
   "execution_count": 189,
   "id": "128812e2-9d08-4b67-9a7d-feb2146ef3b6",
   "metadata": {},
   "outputs": [
    {
     "name": "stderr",
     "output_type": "stream",
     "text": [
      "                                                                                \r"
     ]
    },
    {
     "data": {
      "image/png": "[encoded data removed]",
      "text/plain": [
       "<Figure size 800x600 with 2 Axes>"
      ]
     },
     "metadata": {},
     "output_type": "display_data"
    }
   ],
   "source": [
    "res_pd = res.toPandas()\n",
    "\n",
    "conf_matrix = np.array([[0, 0], [0, 0]])\n",
    "\n",
    "for index, row in res_pd.iterrows():\n",
    "    target = int(row['TARGET'])\n",
    "    prediction = int(row['prediction'])\n",
    "    count = row['count']\n",
    "    conf_matrix[target, prediction] = count\n",
    "    \n",
    "plt.figure(figsize=(8, 6))\n",
    "sns.heatmap(conf_matrix, annot=True, fmt='d', cmap='Reds', xticklabels=['0', '1'], yticklabels=['0', '1'])\n",
    "plt.xlabel('Dự đoán')\n",
    "plt.ylabel('Thực tế')\n",
    "plt.title('Ma trận nhầm lẫn')\n",
    "plt.show()"
   ]
  },
  {
   "cell_type": "code",
   "execution_count": 182,
   "id": "0cc72619-5493-43c6-90ad-9afea6bdb8a5",
   "metadata": {},
   "outputs": [
    {
     "data": {
      "text/plain": [
       "array([[62748,  2310],\n",
       "       [ 4776,   864]])"
      ]
     },
     "execution_count": 182,
     "metadata": {},
     "output_type": "execute_result"
    }
   ],
   "source": [
    "conf_matrix"
   ]
  },
  {
   "cell_type": "code",
   "execution_count": 196,
   "id": "a3271e67-cf8a-4843-b4de-fb7fe2c204ae",
   "metadata": {},
   "outputs": [
    {
     "name": "stderr",
     "output_type": "stream",
     "text": [
      "                                                                                \r"
     ]
    }
   ],
   "source": [
    "# Xuất mô hình\n",
    "pipe_model.save('lr_hc')"
   ]
  },
  {
   "cell_type": "code",
   "execution_count": null,
   "id": "d95bdda2-7b6e-446f-84f4-d0d4fc8bf149",
   "metadata": {},
   "outputs": [],
   "source": []
  }
 ],
 "metadata": {
  "kernelspec": {
   "display_name": "Python 3 (ipykernel)",
   "language": "python",
   "name": "python3"
  },
  "language_info": {
   "codemirror_mode": {
    "name": "ipython",
    "version": 3
   },
   "file_extension": ".py",
   "mimetype": "text/x-python",
   "name": "python",
   "nbconvert_exporter": "python",
   "pygments_lexer": "ipython3",
   "version": "3.11.5"
  }
 },
 "nbformat": 4,
 "nbformat_minor": 5
}
